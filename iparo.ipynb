{
 "cells": [
  {
   "cell_type": "markdown",
   "metadata": {},
   "source": [
    "# IPARO Implementation using IPFS\n",
    "\n",
    "This notebook demonstrates a simple implementation of InterPlanetary Archival Record Objects (IPAROs) using IPFS. We'll create, store, and link IPAROs, and explore how to retrieve and navigate between them.\n",
    "\n",
    "## Prerequisites\n",
    "\n",
    "1. Install IPFS and ensure it's running on your system with:\n",
    "\n",
    "   ```bash\n",
    "   ipfs daemon\n",
    "2. Install the `requests` library for Python to interact with the IPFS HTTP API.\n",
    "\n",
    "   ```bash\n",
    "   pip install requests"
   ]
  },
  {
   "cell_type": "code",
   "execution_count": 25,
   "metadata": {},
   "outputs": [],
   "source": [
    "import json\n",
    "import requests\n",
    "from datetime import datetime, UTC\n",
    "\n",
    "# IPFS API URL\n",
    "ipfs_api_url = 'http://127.0.0.1:5001/api/v0'"
   ]
  },
  {
   "cell_type": "markdown",
   "metadata": {},
   "source": [
    "## Step 2: Define Functions for Creating and Storing IPAROs\n",
    "\n",
    "We will define functions to create IPAROs, add them to IPFS, and update links between them."
   ]
  },
  {
   "cell_type": "code",
   "execution_count": 26,
   "metadata": {},
   "outputs": [],
   "source": [
    "def create_iparo(content, prev_cids=None, next_cid=None):\n",
    "    \"\"\"\n",
    "    Create an IPARO with the given content and links to previous and next IPAROs.\n",
    "\n",
    "    Args:\n",
    "        content (str): The content of the IPARO.\n",
    "        prev_cids (list): List of CIDs of the previous IPAROs.\n",
    "        next_cid (str): CID of the next IPARO.\n",
    "\n",
    "    Returns:\n",
    "        dict: The created IPARO.\n",
    "    \"\"\"\n",
    "    iparo = {\n",
    "        'content': content,\n",
    "        'prev_cids': prev_cids or [],\n",
    "        'next_cid': next_cid,\n",
    "        'timestamp': datetime.now(UTC).isoformat()\n",
    "    }\n",
    "    return iparo\n",
    "\n",
    "\n",
    "def add_to_ipfs(iparo):\n",
    "    \"\"\"\n",
    "    Add the given IPARO to IPFS and return its CID.\n",
    "\n",
    "    Args:\n",
    "        iparo (dict): The IPARO to add to IPFS.\n",
    "\n",
    "    Returns:\n",
    "        str: The CID of the added IPARO.\n",
    "    \"\"\"\n",
    "    iparo_json = json.dumps(iparo)\n",
    "    response = requests.post(f'{ipfs_api_url}/add', files={'file': iparo_json})\n",
    "    cid = response.json()['Hash']\n",
    "    return cid"
   ]
  },
  {
   "cell_type": "markdown",
   "metadata": {},
   "source": [
    "## Step 3: Create Functions for Different Linkages\n",
    "\n",
    "### 3.1: Create a Chain with Each Node Linking to All Preceding Nodes"
   ]
  },
  {
   "cell_type": "code",
   "execution_count": 27,
   "metadata": {},
   "outputs": [
    {
     "name": "stdout",
     "output_type": "stream",
     "text": [
      "CIDs (All Preceding): ['QmWPyMVLc8LAUGHXaXYGxyYaezC1bfZZGbSXomj85YQrGT', 'QmeEGML2bP8aVe663vjWgid3qNq12CLEbdvdWQkED55gE7', 'QmNa2ShZSo9zWAfwt81e69mviH5BUoYZrUS7GWuymHQ9xf', 'QmYkfoJc8Z3uxXMNSXZfXg61qBKro3KHdc117xcYKvj8FG', 'Qmaf2BYc9XNXyhyxHc86d26nQJvi2rXGtojG1qTvZ1PwKJ']\n"
     ]
    }
   ],
   "source": [
    "def create_chain_all_preceding(num_nodes):\n",
    "    \"\"\"\n",
    "    Create a chain of IPAROs where each node links to all preceding nodes.\n",
    "\n",
    "    Args:\n",
    "        num_nodes (int): The number of nodes to create.\n",
    "\n",
    "    Returns:\n",
    "        list: A list of CIDs for the created IPAROs.\n",
    "    \"\"\"\n",
    "    cids = []\n",
    "    for i in range(num_nodes):\n",
    "        content = f\"Node {i + 1}\"\n",
    "        prev_cids = cids.copy() if i > 0 else []\n",
    "        iparo = create_iparo(content, prev_cids=prev_cids)\n",
    "        cid = add_to_ipfs(iparo)\n",
    "        cids.append(cid)\n",
    "    return cids\n",
    "\n",
    "\n",
    "# Example usage\n",
    "cids_all_preceding = create_chain_all_preceding(5)\n",
    "print(\"CIDs (All Preceding):\", cids_all_preceding)"
   ]
  },
  {
   "cell_type": "markdown",
   "metadata": {},
   "source": [
    "### 3.2: Create a Chain with Each Node Linking Only to the Prior Node\n"
   ]
  },
  {
   "cell_type": "code",
   "execution_count": 28,
   "metadata": {},
   "outputs": [
    {
     "name": "stdout",
     "output_type": "stream",
     "text": [
      "CIDs (Prior Node): ['QmR2kJnBGF3wx7fcvgf3cLbvmNtCLwcrDYLYLV31Kbqb9F', 'QmWCNpeCE4w8ssuJ1RrcZhaZYoVoF6mABrbpLFkysXQg67', 'QmS6dpo7ugLDYHkWNxjj3eGg9hZp5DPxYBxyu1DsAQNLz7', 'QmXPC8MDvE5hP1Vx5NnBx2TT9Zgnf7dbgkWhRo5oMuVipu', 'QmeU7VstgBhrRAYCrXXZweg1MBFkFzZCVtxBuWNG1d9AU8']\n"
     ]
    }
   ],
   "source": [
    "def create_chain_prior_node(num_nodes):\n",
    "    \"\"\"\n",
    "    Create a chain of IPAROs where each node links only to the prior node.\n",
    "\n",
    "    Args:\n",
    "        num_nodes (int): The number of nodes to create.\n",
    "\n",
    "    Returns:\n",
    "        list: A list of CIDs for the created IPAROs.\n",
    "    \"\"\"\n",
    "    cids = []\n",
    "    prev_cid = None\n",
    "    for i in range(num_nodes):\n",
    "        content = f\"Node {i + 1}\"\n",
    "        prev_cids = [prev_cid] if prev_cid else []\n",
    "        iparo = create_iparo(content, prev_cids=prev_cids)\n",
    "        cid = add_to_ipfs(iparo)\n",
    "        cids.append(cid)\n",
    "        prev_cid = cid\n",
    "    return cids\n",
    "\n",
    "\n",
    "# Example usage\n",
    "cids_prior_node = create_chain_prior_node(5)\n",
    "print(\"CIDs (Prior Node):\", cids_prior_node)"
   ]
  },
  {
   "cell_type": "code",
   "execution_count": 29,
   "metadata": {},
   "outputs": [
    {
     "name": "stdout",
     "output_type": "stream",
     "text": [
      "Retrieved IPARO 1: {\n",
      "  \"content\": \"Initial content\",\n",
      "  \"prev_cids\": [],\n",
      "  \"next_cid\": \"QmTMA9b9c4FFnZ13zvQykb23WLyBJB6im2EyC9JLauB4KD\",\n",
      "  \"timestamp\": \"2024-07-20T13:22:40.773936+00:00\"\n",
      "} \n",
      "\n",
      "Retrieved IPARO 2: {\n",
      "  \"content\": \"Second version\",\n",
      "  \"prev_cids\": \"QmXL9MUTbDKspA8CwSXTP8nERQ4gZFfXmXNarngfbtGwr5\",\n",
      "  \"next_cid\": null,\n",
      "  \"timestamp\": \"2024-07-20T13:22:40.789843+00:00\"\n",
      "}\n"
     ]
    }
   ],
   "source": [
    "def get_iparo(cid):\n",
    "    \"\"\"\n",
    "    Retrieve an IPARO from IPFS using its CID.\n",
    "\n",
    "    Args:\n",
    "        cid (str): The CID of the IPARO to retrieve.\n",
    "\n",
    "    Returns:\n",
    "        dict: The retrieved IPARO.\n",
    "    \"\"\"\n",
    "    response = requests.post(f'{ipfs_api_url}/cat?arg={cid}')\n",
    "    iparo_json = response.content.decode('utf-8')\n",
    "    iparo = json.loads(iparo_json)\n",
    "    return iparo\n",
    "\n",
    "\n",
    "# Retrieve and print IPARO 1\n",
    "retrieved_iparo1 = get_iparo(cid1_updated)\n",
    "print(\"Retrieved IPARO 1:\", json.dumps(retrieved_iparo1, indent=2), \"\\n\")\n",
    "\n",
    "# Retrieve and print IPARO 2\n",
    "retrieved_iparo2 = get_iparo(retrieved_iparo1['next_cid'])\n",
    "print(\"Retrieved IPARO 2:\", json.dumps(retrieved_iparo2, indent=2))"
   ]
  },
  {
   "cell_type": "markdown",
   "metadata": {},
   "source": [
    "## Summary\n",
    "\n",
    "This notebook demonstrates a foundational implementation of InterPlanetary Archival Record Objects (IPAROs) using IPFS. We created, stored, linked, and retrieved IPAROs, providing a basic understanding of how to work with decentralized web archiving objects.\n",
    "\n",
    "### Implemented Features:\n",
    "\n",
    "1. **IPARO Creation**: Defined a function to create IPAROs with content, links to previous and next IPAROs, and a timestamp.\n",
    "2. **Storing IPAROs in IPFS**: Developed a function to add IPAROs to IPFS and retrieve their unique content identifiers (CIDs).\n",
    "3. **Linkage Methods**:\n",
    "   - **All Preceding Nodes**: Implemented a function to create a chain where each IPARO links to all preceding IPAROs.\n",
    "   - **Prior Node Only**: Implemented a function to create a chain where each IPARO links only to the immediately preceding IPARO.\n",
    "4. **Retrieving and Navigating IPAROs**: Demonstrated how to retrieve IPAROs from IPFS and navigate between linked IPAROs.\n",
    "\n",
    "This implementation provides a starting point for more complex linkage and version control mechanisms that can be built on top of this structure.\n"
   ]
  },
  {
   "cell_type": "markdown",
   "metadata": {},
   "source": [
    "## Possible Metrics to Test with the IPARO Data Structure\n",
    "\n",
    "### 1. **Storage Efficiency**\n",
    "\n",
    "- **Data Size**: Measure the size of each IPARO stored in IPFS. Compare the storage size of the original content with the IPARO structure to understand the overhead introduced by metadata and linking information.\n",
    "- **Deduplication**: Evaluate how well the data structure handles duplicate content. Since IPFS uses content-based addressing, identical content should only be stored once. Check the storage savings achieved through deduplication.\n",
    "\n",
    "### 2. **Retrieval Time**\n",
    "\n",
    "- **Latency**: Measure the time it takes to retrieve an IPARO from IPFS. This includes the time to fetch the IPARO from the network and decode the content.\n",
    "- **Traversal Time**: For linked IPAROs, measure the time required to traverse from one IPARO to another, especially when navigating through a sequence of linked versions.\n",
    "\n",
    "### 3. **Version Control**\n",
    "\n",
    "- **Version Linking**: Test the efficiency of linking and retrieving multiple versions of content. Ensure that each version correctly references the previous and next versions, and measure the ease of navigating between them.\n",
    "- **Conflict Resolution**: If implementing a more complex linking method (e.g., graph-based), test the system’s ability to handle conflicts and merge changes from different versions.\n",
    "\n",
    "### 4. **Scalability**\n",
    "\n",
    "- **Large-scale Archiving**: Evaluate the performance of the IPARO data structure with a large number of archived objects. Test how the system scales as the number of IPAROs increases, particularly in terms of storage and retrieval time.\n",
    "- **Network Performance**: Measure the impact on network performance when adding and retrieving a large number of IPAROs. Assess the bandwidth usage and the system’s ability to handle network congestion.\n",
    "\n",
    "### 5. **Data Integrity**\n",
    "\n",
    "- **Content Verification**: Verify the integrity of the stored content by comparing the original content with the retrieved IPARO content. Check for any data corruption or loss.\n",
    "- **Merkle Trees**: If using Merkle trees for linking, test the efficiency and reliability of the structure for verifying data integrity.\n",
    "\n",
    "### 6. **Redundancy and Reliability**\n",
    "\n",
    "- **Replication**: Test the redundancy mechanisms in IPFS to ensure that IPAROs remain accessible even if some nodes in the network go down. Measure the replication factor and the reliability of data retrieval under different network conditions.\n",
    "- **Pinning**: Evaluate the effectiveness of pinning IPAROs to ensure they are retained in the IPFS network. Measure the success rate of retrieving pinned IPAROs over time.\n",
    "\n",
    "### 7. **Access Control**\n",
    "\n",
    "- **Permission Management**: If implementing access control mechanisms, test the system’s ability to manage permissions for different users. Ensure that only authorized users can access, modify, or delete IPAROs.\n",
    "- **Audit Logs**: Evaluate the system’s ability to maintain audit logs of access and modifications to IPAROs. Measure the efficiency of tracking changes and retrieving audit logs.\n"
   ]
  }
 ],
 "metadata": {
  "kernelspec": {
   "display_name": "Python 3 (ipykernel)",
   "language": "python",
   "name": "python3"
  },
  "language_info": {
   "codemirror_mode": {
    "name": "ipython",
    "version": 3
   },
   "file_extension": ".py",
   "mimetype": "text/x-python",
   "name": "python",
   "nbconvert_exporter": "python",
   "pygments_lexer": "ipython3",
   "version": "3.12.2"
  }
 },
 "nbformat": 4,
 "nbformat_minor": 4
}
