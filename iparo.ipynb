{
 "cells": [
  {
   "cell_type": "markdown",
   "metadata": {},
   "source": [
    "# IPARO Implementation using IPFS\n",
    "\n",
    "This notebook demonstrates a simple implementation of InterPlanetary Archival Record Objects (IPAROs) using IPFS. We'll create, store, and link IPAROs, and explore how to retrieve and navigate between them.\n",
    "\n",
    "## Prerequisites\n",
    "\n",
    "1. Install IPFS and ensure it's running on your system with:\n",
    "\n",
    "   ```bash\n",
    "   ipfs daemon\n",
    "2. Install the `requests` library for Python to interact with the IPFS HTTP API.\n",
    "\n",
    "   ```bash\n",
    "   pip install requests"
   ]
  },
  {
   "cell_type": "code",
   "execution_count": 8,
   "metadata": {},
   "outputs": [],
   "source": [
    "import json\n",
    "import requests\n",
    "import time\n",
    "from datetime import datetime, UTC\n",
    "\n",
    "# IPFS API URL\n",
    "ipfs_api_url = 'http://127.0.0.1:5001/api/v0'"
   ]
  },
  {
   "cell_type": "markdown",
   "metadata": {},
   "source": [
    "## Step 2: Define Functions for Creating and Storing IPAROs\n",
    "\n",
    "We will define functions to create IPAROs, add them to IPFS, and update links between them."
   ]
  },
  {
   "cell_type": "code",
   "execution_count": 2,
   "metadata": {},
   "outputs": [],
   "source": [
    "def create_iparo(content, prev_cids=None, next_cid=None):\n",
    "    \"\"\"\n",
    "    Create an IPARO with the given content and links to previous and next IPAROs.\n",
    "\n",
    "    Args:\n",
    "        content (str): The content of the IPARO.\n",
    "        prev_cids (list): List of CIDs of the previous IPAROs.\n",
    "        next_cid (str): CID of the next IPARO.\n",
    "\n",
    "    Returns:\n",
    "        dict: The created IPARO.\n",
    "    \"\"\"\n",
    "    iparo = {\n",
    "        'content': content,\n",
    "        'prev_cids': prev_cids or [],\n",
    "        'next_cid': next_cid,\n",
    "        'timestamp': datetime.now(UTC).isoformat()\n",
    "    }\n",
    "    return iparo\n",
    "\n",
    "\n",
    "def add_to_ipfs(iparo):\n",
    "    \"\"\"\n",
    "    Add the given IPARO to IPFS and return its CID.\n",
    "\n",
    "    Args:\n",
    "        iparo (dict): The IPARO to add to IPFS.\n",
    "\n",
    "    Returns:\n",
    "        str: The CID of the added IPARO.\n",
    "    \"\"\"\n",
    "    iparo_json = json.dumps(iparo)\n",
    "    response = requests.post(f'{ipfs_api_url}/add', files={'file': iparo_json})\n",
    "    cid = response.json()['Hash']\n",
    "    return cid"
   ]
  },
  {
   "cell_type": "markdown",
   "metadata": {},
   "source": [
    "## Step 3: Create Functions for Different Linkages\n",
    "\n",
    "### 3.1: Create a Chain with Each Node Linking to All Preceding Nodes"
   ]
  },
  {
   "cell_type": "code",
   "execution_count": 3,
   "metadata": {},
   "outputs": [
    {
     "name": "stdout",
     "output_type": "stream",
     "text": [
      "CIDs (All Preceding): ['QmdTs3VM5ov6JGknoeu9nytH729oRLRE29Pg2x9G4HZy1D', 'QmP9Zmco1uLMNAq5iR55DGdZtdpDS4iobiRQu4BW3qcgMp', 'QmPJCRMSrBARZJToBvvigFbJF5Ng6jGtz8JLeGjnNgM5ts', 'QmQ4mNy9daaYzqM12re8kPBEzvLeJoxhiErDVycUShtgiJ', 'QmfV3tNijju3WWpV2m59NqVbRxnbZ74c1oKjq2meAczHbR']\n"
     ]
    }
   ],
   "source": [
    "def create_chain_all_preceding(num_nodes):\n",
    "    \"\"\"\n",
    "    Create a chain of IPAROs where each node links to all preceding nodes.\n",
    "\n",
    "    Args:\n",
    "        num_nodes (int): The number of nodes to create.\n",
    "\n",
    "    Returns:\n",
    "        list: A list of CIDs for the created IPAROs.\n",
    "    \"\"\"\n",
    "    cids = []\n",
    "    for i in range(num_nodes):\n",
    "        content = f\"Node {i + 1}\"\n",
    "        prev_cids = cids.copy() if i > 0 else []\n",
    "        iparo = create_iparo(content, prev_cids=prev_cids)\n",
    "        cid = add_to_ipfs(iparo)\n",
    "        cids.append(cid)\n",
    "    return cids\n",
    "\n",
    "\n",
    "# Example usage\n",
    "cids_all_preceding = create_chain_all_preceding(5)\n",
    "print(\"CIDs (All Preceding):\", cids_all_preceding)"
   ]
  },
  {
   "cell_type": "markdown",
   "metadata": {},
   "source": [
    "### 3.2: Create a Chain with Each Node Linking Only to the Prior Node\n"
   ]
  },
  {
   "cell_type": "code",
   "execution_count": 4,
   "metadata": {},
   "outputs": [
    {
     "name": "stdout",
     "output_type": "stream",
     "text": [
      "CIDs (Prior Node): ['QmVVQeyeZ3g9RJSa5nWC239grSd2bezp3CHenyELNCwzKx', 'QmSCq4EDaF95RiRcb9K3D7i7SrHtjFS5scKwCq1goUbhzb', 'QmNYgraeXmYaLqNFvjNxCdm4AFPNf7RLMJ74RYG6bw9a7e', 'QmdM1P1s5QggZyZh8qwdFnr8SwmWkuoKVpqk2bEqHD5g8y', 'QmPRyEVoeojvHaLqTH9Wgv5CLhhmvj3Li2PzAcsc6PNpu3']\n"
     ]
    }
   ],
   "source": [
    "def create_chain_prior_node(num_nodes):\n",
    "    \"\"\"\n",
    "    Create a chain of IPAROs where each node links only to the prior node.\n",
    "\n",
    "    Args:\n",
    "        num_nodes (int): The number of nodes to create.\n",
    "\n",
    "    Returns:\n",
    "        list: A list of CIDs for the created IPAROs.\n",
    "    \"\"\"\n",
    "    cids = []\n",
    "    prev_cid = None\n",
    "    for i in range(num_nodes):\n",
    "        content = f\"Node {i + 1}\"\n",
    "        prev_cids = [prev_cid] if prev_cid else []\n",
    "        iparo = create_iparo(content, prev_cids=prev_cids)\n",
    "        cid = add_to_ipfs(iparo)\n",
    "        cids.append(cid)\n",
    "        prev_cid = cid\n",
    "    return cids\n",
    "\n",
    "\n",
    "# Example usage\n",
    "cids_prior_node = create_chain_prior_node(5)\n",
    "print(\"CIDs (Prior Node):\", cids_prior_node)"
   ]
  },
  {
   "cell_type": "code",
   "execution_count": 6,
   "metadata": {},
   "outputs": [
    {
     "name": "stdout",
     "output_type": "stream",
     "text": [
      "Retrieved IPARO 1: {\n",
      "  \"content\": \"Node 1\",\n",
      "  \"prev_cids\": [],\n",
      "  \"next_cid\": null,\n",
      "  \"timestamp\": \"2024-07-25T20:29:51.948928+00:00\"\n",
      "} \n",
      "\n",
      "Retrieved IPARO 2: {\n",
      "  \"Message\": \"invalid path \\\"None\\\": path does not have enough components\",\n",
      "  \"Code\": 0,\n",
      "  \"Type\": \"error\"\n",
      "}\n"
     ]
    }
   ],
   "source": [
    "def get_iparo(cid):\n",
    "    \"\"\"\n",
    "    Retrieve an IPARO from IPFS using its CID.\n",
    "\n",
    "    Args:\n",
    "        cid (str): The CID of the IPARO to retrieve.\n",
    "\n",
    "    Returns:\n",
    "        dict: The retrieved IPARO.\n",
    "    \"\"\"\n",
    "    response = requests.post(f'{ipfs_api_url}/cat?arg={cid}')\n",
    "    iparo_json = response.content.decode('utf-8')\n",
    "    iparo = json.loads(iparo_json)\n",
    "    return iparo\n",
    "\n",
    "\n",
    "# Retrieve and print IPARO 1\n",
    "retrieved_iparo1 = get_iparo(cids_prior_node[0])\n",
    "print(\"Retrieved IPARO 1:\", json.dumps(retrieved_iparo1, indent=2), \"\\n\")\n",
    "\n",
    "# Retrieve and print IPARO 2\n",
    "retrieved_iparo2 = get_iparo(retrieved_iparo1['next_cid'])\n",
    "print(\"Retrieved IPARO 2:\", json.dumps(retrieved_iparo2, indent=2))"
   ]
  },
  {
   "cell_type": "markdown",
   "metadata": {},
   "source": [
    "## Step 4: Metric tests\n",
    "\n",
    "### 4.1: Storage Efficiency\n"
   ]
  },
  {
   "cell_type": "code",
   "execution_count": 7,
   "metadata": {},
   "outputs": [
    {
     "name": "stdout",
     "output_type": "stream",
     "text": [
      "Original content size: 20 bytes\n",
      "IPARO size: 119 bytes\n"
     ]
    }
   ],
   "source": [
    "def measure_storage_efficiency(iparo):\n",
    "    \"\"\"\n",
    "    Measure the size of an IPARO.\n",
    "\n",
    "    Args:\n",
    "        iparo (dict): The IPARO to measure.\n",
    "\n",
    "    Returns:\n",
    "        int: The size of the IPARO in bytes.\n",
    "    \"\"\"\n",
    "    iparo_json = json.dumps(iparo)\n",
    "    return len(iparo_json)\n",
    "\n",
    "\n",
    "def test_storage_efficiency():\n",
    "    content = \"This is a test IPARO\"\n",
    "    iparo = create_iparo(content)\n",
    "    original_size = len(content)\n",
    "    iparo_size = measure_storage_efficiency(iparo)\n",
    "    print(f\"Original content size: {original_size} bytes\")\n",
    "    print(f\"IPARO size: {iparo_size} bytes\")\n",
    "\n",
    "\n",
    "test_storage_efficiency()"
   ]
  },
  {
   "cell_type": "markdown",
   "metadata": {},
   "source": [
    "### 4.2: Retrieval Time"
   ]
  },
  {
   "cell_type": "code",
   "execution_count": 9,
   "metadata": {},
   "outputs": [
    {
     "name": "stdout",
     "output_type": "stream",
     "text": [
      "Average retrieval time: 0.0025 seconds\n"
     ]
    }
   ],
   "source": [
    "def measure_retrieval_time(cid):\n",
    "    \"\"\"\n",
    "    Measure the retrieval time of an IPARO from IPFS.\n",
    "\n",
    "    Args:\n",
    "        cid (str): The CID of the IPARO to retrieve.\n",
    "\n",
    "    Returns:\n",
    "        float: The retrieval time in seconds.\n",
    "    \"\"\"\n",
    "    start_time = time.time()\n",
    "    iparo = get_iparo(cid)\n",
    "    end_time = time.time()\n",
    "    return end_time - start_time\n",
    "\n",
    "\n",
    "def test_retrieval_time(cids):\n",
    "    times = [measure_retrieval_time(cid) for cid in cids]\n",
    "    avg_time = sum(times) / len(times)\n",
    "    print(f\"Average retrieval time: {avg_time:.4f} seconds\")\n",
    "\n",
    "\n",
    "test_retrieval_time(cids_prior_node)"
   ]
  },
  {
   "cell_type": "markdown",
   "metadata": {},
   "source": [
    "### 4.3: Version Control"
   ]
  },
  {
   "cell_type": "code",
   "execution_count": 10,
   "metadata": {},
   "outputs": [
    {
     "name": "stdout",
     "output_type": "stream",
     "text": [
      "Version control test passed\n"
     ]
    }
   ],
   "source": [
    "def test_version_control():\n",
    "    content_v1 = \"This is version 1\"\n",
    "    iparo_v1 = create_iparo(content_v1)\n",
    "    cid_v1 = add_to_ipfs(iparo_v1)\n",
    "\n",
    "    content_v2 = \"This is version 2\"\n",
    "    iparo_v2 = create_iparo(content_v2, prev_cids=[cid_v1])\n",
    "    cid_v2 = add_to_ipfs(iparo_v2)\n",
    "\n",
    "    retrieved_iparo_v2 = get_iparo(cid_v2)\n",
    "    assert retrieved_iparo_v2['prev_cids'] == [\n",
    "        cid_v1], \"Version control test failed\"\n",
    "    print(\"Version control test passed\")\n",
    "\n",
    "\n",
    "test_version_control()"
   ]
  },
  {
   "cell_type": "markdown",
   "metadata": {},
   "source": [
    "### 4.4: Scalability\n"
   ]
  },
  {
   "cell_type": "code",
   "execution_count": 11,
   "metadata": {},
   "outputs": [
    {
     "name": "stdout",
     "output_type": "stream",
     "text": [
      "Average retrieval time: 0.0020 seconds\n"
     ]
    }
   ],
   "source": [
    "def test_scalability(num_nodes):\n",
    "    cids = create_chain_prior_node(num_nodes)\n",
    "    test_retrieval_time(cids)\n",
    "\n",
    "\n",
    "test_scalability(100)"
   ]
  },
  {
   "cell_type": "markdown",
   "metadata": {},
   "source": [
    "### 4.5: Data Integrity\n"
   ]
  },
  {
   "cell_type": "code",
   "execution_count": 12,
   "metadata": {},
   "outputs": [
    {
     "name": "stdout",
     "output_type": "stream",
     "text": [
      "Data integrity test passed\n"
     ]
    }
   ],
   "source": [
    "def test_data_integrity(cid, original_content):\n",
    "    retrieved_iparo = get_iparo(cid)\n",
    "    assert retrieved_iparo['content'] == original_content, \"Data integrity test failed\"\n",
    "    print(\"Data integrity test passed\")\n",
    "\n",
    "\n",
    "test_data_integrity(cids_prior_node[0], \"Node 1\")"
   ]
  },
  {
   "cell_type": "markdown",
   "metadata": {},
   "source": [
    "### 4.6: Redundancy and Reliability\n"
   ]
  },
  {
   "cell_type": "code",
   "execution_count": null,
   "metadata": {},
   "outputs": [],
   "source": [
    "def test_redundancy(cid):\n",
    "    # To test redundancy, we would need to run IPFS in a multi-node setup\n",
    "    # and simulate node failures. This is a placeholder function.\n",
    "    print(\"Redundancy test requires a multi-node setup and is not implemented here\")\n",
    "\n",
    "\n",
    "test_redundancy(cids_prior_node[0])"
   ]
  },
  {
   "cell_type": "markdown",
   "metadata": {},
   "source": [
    "### 4.7: Access Control"
   ]
  },
  {
   "cell_type": "code",
   "execution_count": null,
   "metadata": {},
   "outputs": [],
   "source": [
    "def test_access_control():\n",
    "    # IPFS does not natively support access control. This would require additional layers.\n",
    "    # This is a placeholder function.\n",
    "    print(\"Access control test is not implemented as IPFS does not natively support it\")\n",
    "\n",
    "\n",
    "test_access_control()"
   ]
  },
  {
   "cell_type": "markdown",
   "metadata": {},
   "source": [
    "## Summary\n",
    "\n",
    "This notebook demonstrates a foundational implementation of InterPlanetary Archival Record Objects (IPAROs) using IPFS. We created, stored, linked, and retrieved IPAROs, providing a basic understanding of how to work with decentralized web archiving objects.\n",
    "\n",
    "### Implemented Features:\n",
    "\n",
    "1. **IPARO Creation**: Defined a function to create IPAROs with content, links to previous and next IPAROs, and a timestamp.\n",
    "2. **Storing IPAROs in IPFS**: Developed a function to add IPAROs to IPFS and retrieve their unique content identifiers (CIDs).\n",
    "3. **Linkage Methods**:\n",
    "   - **All Preceding Nodes**: Implemented a function to create a chain where each IPARO links to all preceding IPAROs.\n",
    "   - **Prior Node Only**: Implemented a function to create a chain where each IPARO links only to the immediately preceding IPARO.\n",
    "4. **Retrieving and Navigating IPAROs**: Demonstrated how to retrieve IPAROs from IPFS and navigate between linked IPAROs.\n",
    "5. **Metric Tests**:\n",
    "   - **Storage Efficiency**: Measured the size of IPAROs and compared it with the original content size.\n",
    "   - **Retrieval Time**: Measured the time taken to retrieve IPAROs from IPFS.\n",
    "   - **Version Control**: Tested the linking and retrieval of multiple versions of content.\n",
    "   - **Scalability**: Evaluated the performance with a large number of IPAROs.\n",
    "   - **Data Integrity**: Verified the integrity of the stored and retrieved content.\n",
    "   - **Redundancy and Reliability**: Placeholder for testing in a multi-node setup.\n",
    "   - **Access Control**: Placeholder as IPFS does not natively support it.\n"
   ]
  }
 ],
 "metadata": {
  "kernelspec": {
   "display_name": "Python 3 (ipykernel)",
   "language": "python",
   "name": "python3"
  },
  "language_info": {
   "codemirror_mode": {
    "name": "ipython",
    "version": 3
   },
   "file_extension": ".py",
   "mimetype": "text/x-python",
   "name": "python",
   "nbconvert_exporter": "python",
   "pygments_lexer": "ipython3",
   "version": "3.12.2"
  }
 },
 "nbformat": 4,
 "nbformat_minor": 4
}
