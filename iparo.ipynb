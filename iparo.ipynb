{
 "cells": [
  {
   "cell_type": "markdown",
   "metadata": {},
   "source": [
    "# Simulating IPFS and IPNS Systems\n",
    "\n",
    "This notebook provides a Python-based simulation of IPFS (InterPlanetary File System) and IPNS (InterPlanetary Naming System) to test various linking strategies for storing and retrieving IPAROs.\n",
    "\n",
    "The notebook uses three classes to simulate these systems:\n",
    "- **IPARO**: Represents the storage object on IPFS.\n",
    "- **IPNS**: Keeps track of the latest capture for different websites.\n",
    "- **IPFS**: Simulates the hashing, storage, and retrieval of IPARO objects.\n",
    "\n",
    "The goal of the simulation is to test various linking strategies."
   ]
  },
  {
   "cell_type": "code",
   "execution_count": 1,
   "metadata": {},
   "outputs": [],
   "source": [
    "# Importing the necessary libraries\n",
    "from abc import ABC, abstractmethod\n",
    "from dataclasses import dataclass\n",
    "from datetime import datetime\n",
    "from enum import Enum\n",
    "from functools import cached_property\n",
    "from math import floor\n",
    "from typing import Optional\n",
    "import hashlib\n",
    "import random\n",
    "import time"
   ]
  },
  {
   "cell_type": "markdown",
   "metadata": {},
   "source": [
    "## IPARO Object\n",
    "\n",
    "**Properties:**\n",
    "- `URL`: The capture URL.\n",
    "- `Timestamp`: The timestamp of the capture.\n",
    "- `Content`: The contents of the IPARO.\n",
    "\n",
    "**Functions:**\n",
    "- `__str__`: Returns a string representation of the IPARO object."
   ]
  },
  {
   "cell_type": "code",
   "execution_count": 2,
   "metadata": {},
   "outputs": [],
   "source": [
    "@dataclass(frozen=True)\n",
    "class IPARO:\n",
    "    url: str\n",
    "    content: bytes\n",
    "    timestamp: datetime\n",
    "\n",
    "    def __str__(self):\n",
    "        \"\"\"\n",
    "        Returns a string representation of the IPARO object.\n",
    "\n",
    "        Returns:\n",
    "            str: A string containing the URL and content of the IPARO.\n",
    "        \"\"\"\n",
    "        iparo = {\n",
    "            \"URL\": self.url,\n",
    "            \"Content\": self.content,\n",
    "            \"Timestamp\": self.timestamp,\n",
    "        }\n",
    "        return str(iparo)\n"
   ]
  },
  {
   "cell_type": "markdown",
   "metadata": {},
   "source": [
    "## The IPAROLink Object\n",
    "\n",
    "**Description:**\n",
    "\n",
    "- The IPAROLink class stores a link object, which will define links between two IPARO objects.\n",
    "- The source CID is used to lookup the IPARO objects, so only the target CIDs are recorded in the IPAROLink object in the IPFS.\n",
    "\n",
    "**Properties:**\n",
    "\n",
    "- `seq_num`: The sequence number of the link.\n",
    "- `timestamp`: The timestamp of the link.\n",
    "- `cid`: The CID of the link."
   ]
  },
  {
   "cell_type": "code",
   "execution_count": 3,
   "metadata": {},
   "outputs": [],
   "source": [
    "@dataclass(frozen=True)\n",
    "class IPAROLink:\n",
    "    \"\"\"\n",
    "    Defines the IPARO Link class that has a sequence number, a datetime, and a CID.\n",
    "    \"\"\"\n",
    "    seq_num: int\n",
    "    timestamp: datetime\n",
    "    cid: str\n"
   ]
  },
  {
   "cell_type": "markdown",
   "metadata": {},
   "source": [
    "## The IPAROLinkCollection Object\n",
    "\n",
    "**Description:**\n",
    "\n",
    "- The IPAROLinkCollection class stores all the links from a source node.\n",
    "- The source CID is used to lookup the IPARO objects, so only the target CIDs are recorded in the IPAROLink object.\n",
    "- The previous link has the maximum sequence number of all the links.\n",
    "    - This property must hold true since all strategies access the previous CID.\n",
    "    - The current node and all nodes afterwards have not been hashed before the creation of the link collection so it isn't possible for any node to have a higher sequence number.\n",
    "\n",
    "**Properties:**\n",
    "\n",
    "- `links`: The list of all links coming from the source IPARO.\n",
    "- `previous`: The link to the previous CID, which is the linked CID with the maximum sequence number.\n",
    "- `first`: The link to the very first CID, which is the linked CID with sequence number 0.\n",
    "\n",
    "**Methods:**\n",
    "- `__str__`, `__repr__`: This should return the list of `IPAROLink` objects.\n",
    "- `__len__`: This should return the total number of links in the collection."
   ]
  },
  {
   "cell_type": "code",
   "execution_count": 4,
   "metadata": {},
   "outputs": [],
   "source": [
    "class IPAROLinkCollection:\n",
    "    \"\"\"\n",
    "    A helper class for linking IPAROs together. The two attributes are ``links`` (gets the links to other IPAROs),\n",
    "    and ``iparo`` (the IPARO object to be linked).\n",
    "    \"\"\"\n",
    "\n",
    "    def __init__(self, links: list[IPAROLink]):\n",
    "        \"\"\"\n",
    "        Initializes the collection of links on the IPARO object.\n",
    "\n",
    "        Params:\n",
    "            links (list[IPAROLink]): The list of links.\n",
    "        \"\"\"\n",
    "        self.links = links\n",
    "\n",
    "        # The previous node is in the list of links (if there are any to begin with), and so would have the largest\n",
    "        # sequence number.\n",
    "        self.previous: IPAROLink | None = max(links, key=lambda link: link.seq_num) if len(links) > 0 else None\n",
    "\n",
    "        first_links = [link for link in links if link.seq_num == 0]\n",
    "        self.first: IPAROLink | None = first_links[0] if len(first_links) > 0 else None\n",
    "\n",
    "    def __str__(self):\n",
    "        return str(self.links)\n",
    "\n",
    "    def __repr__(self):\n",
    "        return str(self)\n",
    "        \n",
    "    def __len__(self):\n",
    "        return len(self.links)"
   ]
  },
  {
   "cell_type": "markdown",
   "metadata": {},
   "source": [
    "## IPNS Object\n",
    "\n",
    "**Description:**\n",
    "- The IPNS class stores and maps the latest CID of a website.\n",
    "- Tracks the number of operations (get and update) performed.\n",
    "\n",
    "**Functions:**\n",
    "- `update`: Updates the latest CID of a website.\n",
    "- `get_cid`: Retrieves the CID of the latest capture for a website.\n",
    "- `get_counts`: Returns the number of operations performed.\n",
    "- `reset_counts`: Resets the counters for operations.\n",
    "- `reset`: Resets the data.\n",
    "- `get_version_counts`: Get number of versions of a URL."
   ]
  },
  {
   "cell_type": "code",
   "execution_count": 5,
   "metadata": {},
   "outputs": [],
   "source": [
    "class IPNS:\n",
    "\n",
    "    def __init__(self):\n",
    "        \"\"\"\n",
    "        Initialize the IPNS object with an empty hashmap for storing CIDs\n",
    "        and counters for tracking operations.\n",
    "        \"\"\"\n",
    "        self.data: dict[str, str] = {}\n",
    "        self.version_counts: dict[str, int] = {}\n",
    "        self.update_count = 0\n",
    "        self.get_count = 0\n",
    "\n",
    "    def update(self, url: str, cid: str):\n",
    "        \"\"\"\n",
    "        Updates the latest CID for a given URL.\n",
    "\n",
    "        Args:\n",
    "            url (str): The URL of the website.\n",
    "            cid (str): The CID of the latest capture.\n",
    "        \"\"\"\n",
    "        self.update_count += 1\n",
    "        self.data[url] = cid\n",
    "        self.version_counts[url] = self.version_counts.setdefault(url, 0) + 1\n",
    "\n",
    "    def get_cid(self, url: str) -> Optional[str]:\n",
    "        \"\"\"\n",
    "        Retrieves the latest CID for a given URL if it exists, else None.\n",
    "\n",
    "        Args:\n",
    "            url (str): The URL of the website.\n",
    "\n",
    "        Returns:\n",
    "            str: The CID of the latest capture for the given URL if it exists, else None.\n",
    "        \"\"\"\n",
    "        self.get_count += 1\n",
    "        return self.data.get(url)\n",
    "\n",
    "    def get_number_of_nodes(self, url: str) -> int:\n",
    "        \"\"\"\n",
    "        Retrieves the number of nodes in a given URL.\n",
    "\n",
    "        Args:\n",
    "            url (str): The URL of the website.\n",
    "\n",
    "        Returns:\n",
    "            int: The number of nodes for a given URL, or zero if the mapping is not present.\n",
    "        \"\"\"\n",
    "        return self.version_counts.get(url, 0)\n",
    "\n",
    "    def get_counts(self):\n",
    "        \"\"\"\n",
    "        Returns the number of update and get operations performed.\n",
    "\n",
    "        Returns:\n",
    "            dict: Dictionary with the counts of update and get operations.\n",
    "        \"\"\"\n",
    "        return {\"get\": self.get_count, \"update\": self.update_count}\n",
    "\n",
    "    def reset_data(self):\n",
    "        \"\"\"\n",
    "        Resets the data.\n",
    "        \"\"\"\n",
    "        self.data: dict[str, str] = {}\n",
    "        self.version_counts: dict[str, int] = {}\n",
    "\n",
    "    def reset_counts(self):\n",
    "        \"\"\"\n",
    "        Resets the operating counts. Used for the evaluation phase.\n",
    "        \"\"\"\n",
    "        self.update_count = 0\n",
    "        self.get_count = 0"
   ]
  },
  {
   "cell_type": "markdown",
   "metadata": {},
   "source": [
    "## Link Strategy Parameters\n",
    "\n",
    "**Description:** The LinkStrategyParams class is used to hold the parameters of a linking strategy that are usually needed for the LinkStrategy to properly work, without having to duplicate the code every time we create a linking strategy.\n",
    "\n",
    "**Properties:**\n",
    "- `url`: The URL, provided at the constructor level.\n",
    "- `latest_cid`: The latest CID, which is equal to the CID of the URL (note that this is different from the newly created IPARO object), if it exists.\n",
    "- `node_num`: The number of nodes created for the URL before the newly created IPARO object.\n",
    "- `latest_node`: The node with the latest CID. Used for accessing the timestamp.\n",
    "- `link`: The link to the latest node, if it exists."
   ]
  },
  {
   "cell_type": "code",
   "execution_count": 6,
   "metadata": {},
   "outputs": [],
   "source": [
    "class LinkStrategyParams:\n",
    "    \"\"\"\n",
    "    This class is designed to add parameters from the IPNS and the IPFS that are determined at runtime.\n",
    "    \"\"\"\n",
    "\n",
    "    def __init__(self, url: str):\n",
    "        self.url = url\n",
    "        self.node_num = ipns.get_number_of_nodes(url)\n",
    "\n",
    "    @cached_property\n",
    "    def latest_cid(self):\n",
    "        return ipns.get_cid(self.url)\n",
    "\n",
    "    @cached_property\n",
    "    def latest_node(self):\n",
    "        return ipfs.retrieve(self.latest_cid)\n",
    "\n",
    "    @cached_property\n",
    "    def latest_node_links(self):\n",
    "        return ipfs.retrieve_links(self.latest_cid)\n",
    "\n",
    "    @cached_property\n",
    "    def link(self):\n",
    "        return IPAROLink(seq_num=self.node_num - 1,\n",
    "                         timestamp=self.latest_node.timestamp,\n",
    "                         cid=self.latest_cid) if self.latest_node is not None else None\n"
   ]
  },
  {
   "cell_type": "markdown",
   "metadata": {},
   "source": [
    "## Link Strategies\n",
    "**Description:**\n",
    "The LinkStrategy class encapsulates a linking strategy. This allows for more structure with regards to the approaches to evaluating them.\n",
    "\n",
    "**Functions:**\n",
    "\n",
    "- `get_linked_nodes`: Evaluate which IPARO nodes to link to, given the parameters for the linking strategy."
   ]
  },
  {
   "cell_type": "code",
   "execution_count": 7,
   "metadata": {},
   "outputs": [],
   "source": [
    "class LinkStrategy(ABC):\n",
    "\n",
    "    @abstractmethod\n",
    "    def get_linked_nodes(self, params: LinkStrategyParams) -> IPAROLinkCollection:\n",
    "        pass"
   ]
  },
  {
   "cell_type": "markdown",
   "metadata": {},
   "source": [
    "## Mode\n",
    "**Description:**\n",
    "The Mode class allows the user to specify the way that `retrieve_by_timestamp()` method yields a CID given a URL and a timestamp. Note that if there are no nodes (matching the relevant filters), the `retrieve_timestamp()` method will return `None`.\n",
    "\n",
    "**Constants:**\n",
    "\n",
    "- `LATEST_BEFORE`: Fetches the latest node that comes on or before the specifed timestamp and returns its CID (default).\n",
    "- `EARLIEST_AFTER`: Fetches the latest node that comes on or before the specifed timestamp and returns its CID.\n",
    "- `CLOSEST`: Fetches the latest node that comes closest to the specifed timestamp and returns its CID."
   ]
  },
  {
   "cell_type": "code",
   "execution_count": 8,
   "metadata": {},
   "outputs": [],
   "source": [
    "class Mode(Enum):\n",
    "    LATEST_BEFORE = 0\n",
    "    EARLIEST_AFTER = 1\n",
    "    CLOSEST = 2"
   ]
  },
  {
   "cell_type": "markdown",
   "metadata": {},
   "source": [
    "## IPFS Object\n",
    "\n",
    "**Description:**\n",
    "- The IPFS class stores the nodes and simulates the hashing, storage, and retrieval operations.\n",
    "- Tracks the number of operations (hash, store, retrieve).\n",
    "\n",
    "**Functions:**\n",
    "- `hash`: Hashes the content of a node to generate its CID.\n",
    "- `link`: Links a node with other nodes using a linking strategy.\n",
    "- `store`: Stores a node with its CID.\n",
    "- `retrieve`: Retrieves a node using its CID.\n",
    "- `retrieve_links`: Retrieves the list of all links using the node's CID.\n",
    "- `retrieve_by_number`: Retrieves a node with a URL and its sequence number.\n",
    "- `retrieve_by_date`: Retrieves a node with a URL and its date, according to a given mode.\n",
    "- `get_counts`: Returns the number of operations performed.\n",
    "- `reset_counts`: Resets the counters for operations."
   ]
  },
  {
   "cell_type": "code",
   "execution_count": 9,
   "metadata": {},
   "outputs": [],
   "source": [
    "class IPFS:\n",
    "    \"\"\"\n",
    "    The InterPlanetary File System is responsible for hashing, storing,\n",
    "    retrieving, and linking IPARO objects.\n",
    "    \"\"\"\n",
    "\n",
    "    def __init__(self):\n",
    "        self.data: dict[str, IPARO] = {}\n",
    "        self.links: dict[str, IPAROLinkCollection] = {}\n",
    "        self.hash_count = 0\n",
    "        self.retrieve_count = 0\n",
    "        self.store_count = 0\n",
    "\n",
    "    def hash(self, iparo: IPARO) -> str:\n",
    "        \"\"\"\n",
    "        Hashes the IPARO to generate a CID.\n",
    "\n",
    "        Args:\n",
    "            iparo: IPARO: The IPARO object.\n",
    "\n",
    "        Returns:\n",
    "            str: The generated CID.\n",
    "        \"\"\"\n",
    "        self.hash_count += 1\n",
    "        iparo_string = str(iparo)\n",
    "        sha256_hash = hashlib.sha256(iparo_string.encode()).hexdigest()\n",
    "        return 'Qm' + sha256_hash[:34]\n",
    "\n",
    "    def store(self, iparo: IPARO) -> str:\n",
    "        \"\"\"\n",
    "        Stores a node with its CID.\n",
    "\n",
    "        Args:\n",
    "            iparo (IPARO): The IPARO object to store.\n",
    "\n",
    "        Returns:\n",
    "            The CID of the newly stored IPARO.\n",
    "        \"\"\"\n",
    "        cid = self.hash(iparo)\n",
    "        self.store_count += 1\n",
    "        self.data[cid] = iparo\n",
    "        return cid\n",
    "\n",
    "    def link(self, cid: str, strategy: LinkStrategy, params: LinkStrategyParams) -> IPAROLinkCollection:\n",
    "        \"\"\"\n",
    "        Links an IPARO with the specified CID to other IPAROs, according to the provided linking strategy.\n",
    "\n",
    "        Args:\n",
    "            cid (str): The CID of the IPARO object.\n",
    "            strategy (LinkStrategy): The link strategy to use when linking to other IPAROs.\n",
    "            params (LinkStrategyParams): The parameters for the linking strategy.\n",
    "\n",
    "        Returns:\n",
    "            IPAROLinkCollection: The links added for the newly created node.\n",
    "        \"\"\"\n",
    "        links = strategy.get_linked_nodes(params)\n",
    "        self.links[cid] = links\n",
    "        return links\n",
    "\n",
    "    def reset_data(self):\n",
    "        self.data: dict[str, IPARO] = {}\n",
    "        self.links: dict[str, IPAROLinkCollection] = {}\n",
    "\n",
    "    def retrieve(self, cid) -> Optional[IPARO]:\n",
    "        \"\"\"\n",
    "        Retrieves the IPARO object corresponding to a given CID, if it exists, otherwise, ``None``.\n",
    "        \"\"\"\n",
    "        self.retrieve_count += 1\n",
    "        return self.data.get(cid)\n",
    "\n",
    "    def retrieve_links(self, cid: str) -> IPAROLinkCollection:\n",
    "        \"\"\"\n",
    "        Retrieves the IPARO links corresponding to a given CID.\n",
    "        \"\"\"\n",
    "        self.retrieve_count += 1\n",
    "        return self.links.get(cid, IPAROLinkCollection([]))\n",
    "\n",
    "    def retrieve_by_timestamp(self, url: str, target_timestamp: datetime, mode: Mode = Mode.LATEST_BEFORE) -> \\\n",
    "            Optional[str]:\n",
    "        \"\"\"\n",
    "        Retrieves the IPARO versions of a given URL closest to a given datetime if at least one\n",
    "        IPARO version is stored in the IPFS, otherwise ``None``. Default is the latest timestamp\n",
    "        that occurs before the target timestamp, but ``Mode.EARLIEST_AFTER`` gives the node with\n",
    "        the earliest time after a given timestamp, and ``Mode.CLOSEST`` gives the node with the\n",
    "        closest timestamp to a given timestamp. If the distance from the two closest times to\n",
    "        the target timetamp are equal, the CID with the earlier timestamp will be chosen.\n",
    "        \"\"\"\n",
    "        self.retrieve_count += 1\n",
    "\n",
    "        timestamps = sorted((iparo.timestamp, cid) for cid, iparo in self.data.items() if iparo.url == url)\n",
    "\n",
    "        # Early exit\n",
    "        if len(timestamps) == 0:\n",
    "            return None\n",
    "\n",
    "        timestamp: Optional[datetime]\n",
    "        if mode == Mode.LATEST_BEFORE:\n",
    "            timestamps = [t for t in timestamps if t[0] <= target_timestamp]\n",
    "            _, cid = min(timestamps, default=None, key=lambda ts: target_timestamp - ts[0])\n",
    "        elif mode == Mode.CLOSEST:\n",
    "            # Find the key with the minimum difference to the target timestamps\n",
    "            _, cid = min(timestamps, default=None, key=lambda ts: abs(ts[0] - target_timestamp))\n",
    "        else:\n",
    "            timestamps = [t for t in timestamps if t[0] >= target_timestamp]\n",
    "            _, cid = min(timestamps, default=None, key=lambda ts: ts[0] - target_timestamp)\n",
    "\n",
    "        return cid\n",
    "\n",
    "    def retrieve_by_number(self, url: str, number: int) -> str:\n",
    "        \"\"\"\n",
    "        Retrieves the IPARO CID corresponding to a given sequence number and a URL.\n",
    "        \"\"\"\n",
    "        retrieval_strategy = NumberRetrievalStrategy(url, number)\n",
    "        cid = retrieval_strategy.retrieve()\n",
    "        return cid\n",
    "\n",
    "    def get_counts(self) -> dict:\n",
    "        \"\"\"\n",
    "        Returns the number of hash, store, and retrieve operations performed.\n",
    "\n",
    "        Returns:\n",
    "            dict: Dictionary with counts of hash, store, and retrieve operations.\n",
    "        \"\"\"\n",
    "        counts = {\"hash\": self.hash_count, \"store\": self.store_count,\n",
    "                  \"retrieve\": self.retrieve_count}\n",
    "        return counts\n",
    "\n",
    "    def reset_counts(self):\n",
    "        \"\"\"\n",
    "        Resets the operation counters.\n",
    "        \"\"\"\n",
    "        self.hash_count = 0\n",
    "        self.store_count = 0\n",
    "        self.retrieve_count = 0\n",
    "\n",
    "    def get_all_cids(self, url: str) -> list[str]:\n",
    "        \"\"\"\n",
    "        Retrieves the list of all CIDs and IPAROs in the IPFS, corresponding to the given URL.\n",
    "        The nodes are sorted from latest to earliest.\n",
    "        \"\"\"\n",
    "        cids = []\n",
    "        cid = ipns.get_cid(url)\n",
    "        while True:\n",
    "            if cid is not None:\n",
    "                cids.append(cid)\n",
    "            links = self.retrieve_links(cid)\n",
    "            if links is None or links.previous is None:\n",
    "                break\n",
    "            cid = links.previous.cid\n",
    "\n",
    "        return cids"
   ]
  },
  {
   "cell_type": "markdown",
   "metadata": {},
   "source": [
    "## IPAROFactory\n",
    "\n",
    "**Description**: The purpose of the IPAROFactory class is to create IPARO nodes.\n",
    "\n",
    "**Methods:**\n",
    "- `create_node`: A method that takes in two arguments and creates an IPARO object out of the URL and the content."
   ]
  },
  {
   "cell_type": "code",
   "execution_count": 10,
   "metadata": {},
   "outputs": [],
   "source": [
    "class IPAROFactory:\n",
    "    @classmethod\n",
    "    def create_node(cls, url: str, content: bytes) -> IPARO:\n",
    "        \"\"\"\n",
    "        Creates an IPARO object.\n",
    "\n",
    "        Args:\n",
    "            url (str): The URL of the IPARO object.\n",
    "            content (bytes): The contents of the IPARO object.\n",
    "        \"\"\"\n",
    "        timestamp = datetime.now()\n",
    "        iparo = IPARO(url=url, content=content, timestamp=timestamp)\n",
    "        return iparo\n"
   ]
  },
  {
   "cell_type": "markdown",
   "metadata": {},
   "source": [
    "## RetrievalStrategy (WIP)\n",
    "\n",
    "**Description**: The purpose of the RetrievalStrategy class is to find the optimal links to retrieve in order to find the correct node.\n",
    "\n",
    "**Methods**:\n",
    "- `retrieve`: Given the parameters for the RetrievalStrategy class, retrieves the CID that is the \"least distant\" by a given metric, or `None` if there is no such link."
   ]
  },
  {
   "cell_type": "code",
   "execution_count": 11,
   "metadata": {},
   "outputs": [],
   "source": [
    "class RetrievalStrategy(ABC):\n",
    "\n",
    "    @abstractmethod\n",
    "    def retrieve(self) -> Optional[IPAROLink]:\n",
    "        pass\n",
    "\n",
    "\n",
    "class NumberRetrievalStrategy(RetrievalStrategy):\n",
    "\n",
    "    def __init__(self, url: str, target_num: int):\n",
    "        self.target_num = target_num\n",
    "        self.url = url\n",
    "\n",
    "    def retrieve(self) -> Optional[str]:\n",
    "        cid = ipns.get_cid(self.url)\n",
    "        if self.target_num == ipns.get_number_of_nodes(self.url) - 1:\n",
    "            return cid\n",
    "        while True:\n",
    "            relevant_links = [link for link in ipfs.retrieve_links(cid).links if link.seq_num >= self.target_num]\n",
    "            link = min(relevant_links, default=None, key=lambda link: link.seq_num)\n",
    "            # Works because if link is None, the code will return None, but it will return the\n",
    "            # target node if found.\n",
    "            if link is None:\n",
    "                return None\n",
    "            elif link.seq_num == self.target_num:\n",
    "                return link.cid\n",
    "\n",
    "            cid = link.cid"
   ]
  },
  {
   "cell_type": "markdown",
   "metadata": {},
   "source": [
    "## Initialization and Operation Tracking\n",
    "\n",
    "Here, we initialize the IPFS and IPNS objects and define a helper function `get_op_counts()` to display the number of operations performed. Additionally, the `initialize()` operation sets up those objects and the `automate_node_creation()` function takes in a URL, a number of nodes, and a `LinkStrategy` and returns a list of IPARO objects to debug.\n"
   ]
  },
  {
   "cell_type": "code",
   "execution_count": 12,
   "metadata": {},
   "outputs": [],
   "source": [
    "def initialize():\n",
    "    '''\n",
    "    Initializes the simulated IPFS and IPNS.\n",
    "\n",
    "    (This function should be in a separate file, but for the sake of simplicity, it is included here.)\n",
    "    '''\n",
    "    global ipfs, ipns, iparo_factory\n",
    "    ipfs = IPFS()\n",
    "    ipns = IPNS()\n",
    "    iparo_factory = IPAROFactory()\n",
    "\n",
    "# # Initializing the simulated IPFS and IPNS\n",
    "# ipfs = IPFS()\n",
    "# ipns = IPNS()\n",
    "\n",
    "def get_op_counts():\n",
    "    '''\n",
    "    Displays the number of operations performed by IPNS and IPFS.\n",
    "    '''\n",
    "    print(\"Number of operations IPNS performed:\")\n",
    "    print(ipns.get_counts())\n",
    "    print(\"Number of operations IPFS performed:\")\n",
    "    print(ipfs.get_counts())\n",
    "\n",
    "def setup():\n",
    "    '''\n",
    "    Sets up the testing environment for the different linking strategies.\n",
    "    '''\n",
    "    ipns.reset_data()\n",
    "    ipns.reset_counts()\n",
    "    ipfs.reset_data()\n",
    "    ipfs.reset_counts()\n",
    "\n",
    "\n",
    "def test_storage_strategy(strategy: LinkStrategy, url: str, node_num: int):\n",
    "    setup()\n",
    "    # Automate the creation of additional nodes\n",
    "    for i in range(node_num):\n",
    "        content = f\"Node {i}\"\n",
    "        iparo = IPAROFactory.create_node(url, content)\n",
    "        cid = ipfs.store(iparo)\n",
    "        params = LinkStrategyParams(url)\n",
    "        link_col = ipfs.link(cid, strategy, params)\n",
    "        ipns.update(url, cid)\n",
    "        time.sleep(0.01)\n",
    "    get_op_counts()  # Output operation counts\n",
    "\n",
    "def test_retrieval_strategy(url: str, node_num: int):\n",
    "    # Reset the operation counts\n",
    "    ipns.reset_counts()\n",
    "    ipfs.reset_counts()\n",
    "    \n",
    "    # Pick a random node to search for\n",
    "    node_num = random.randint(0, node_num - 1)\n",
    "    print(f\"Looking for node with sequence number: {node_num}\")\n",
    "    \n",
    "    # Traverse back through the linked nodes to find the target\n",
    "    retrieval_strategy = NumberRetrievalStrategy(url, node_num)\n",
    "    cid = retrieval_strategy.retrieve()\n",
    "    # Output the found node\n",
    "    if cid is not None:\n",
    "        node = ipfs.retrieve(cid)\n",
    "        print(f\"Node found with contents: {node.content}\")\n",
    "    else:\n",
    "        print(\"Can't find node\")\n",
    "    \n",
    "    get_op_counts()\n",
    "    \n",
    "initialize()"
   ]
  },
  {
   "cell_type": "markdown",
   "metadata": {},
   "source": [
    "## Testing Different Linking Strategies\n",
    "\n",
    "### 1. Linking to Only the Previous Node\n",
    "\n",
    "In this test, each node will link only to the previous node in the chain. This strategy will be used to simulate a simple sequential storage system.\n"
   ]
  },
  {
   "cell_type": "code",
   "execution_count": 13,
   "metadata": {},
   "outputs": [],
   "source": [
    "class SingleStrategy(LinkStrategy):\n",
    "\n",
    "    def get_linked_nodes(self, params: LinkStrategyParams) -> IPAROLinkCollection:\n",
    "        links = [params.link] if params.latest_node is not None else []\n",
    "        return IPAROLinkCollection(links)"
   ]
  },
  {
   "cell_type": "markdown",
   "metadata": {},
   "source": [
    "#### Storing Nodes"
   ]
  },
  {
   "cell_type": "code",
   "execution_count": 14,
   "metadata": {},
   "outputs": [
    {
     "name": "stdout",
     "output_type": "stream",
     "text": [
      "Number of operations IPNS performed:\n",
      "{'get': 100, 'update': 100}\n",
      "Number of operations IPFS performed:\n",
      "{'hash': 100, 'store': 100, 'retrieve': 100}\n"
     ]
    }
   ],
   "source": [
    "URL = \"https://www.example.com/\"\n",
    "NODE_NUM = 100\n",
    "# The beautiful thing about this method is it automatically does the setup and cleanup for you!\n",
    "test_storage_strategy(SingleStrategy(), URL, NODE_NUM)"
   ]
  },
  {
   "cell_type": "markdown",
   "metadata": {},
   "source": [
    "By adding a `LinkStrategy` class and a method to store all the nodes, we managed to cut down the number of lines of code significantly. How awesome is that!"
   ]
  },
  {
   "cell_type": "markdown",
   "metadata": {},
   "source": [
    "#### Retrieving Nodes\n",
    "\n",
    "The following section tests retrieval of nodes by simulating a random node search.\n"
   ]
  },
  {
   "cell_type": "code",
   "execution_count": 15,
   "metadata": {},
   "outputs": [
    {
     "name": "stdout",
     "output_type": "stream",
     "text": [
      "Looking for node with sequence number: 31\n",
      "Node found with contents: Node 31\n",
      "Number of operations IPNS performed:\n",
      "{'get': 1, 'update': 0}\n",
      "Number of operations IPFS performed:\n",
      "{'hash': 0, 'store': 0, 'retrieve': 69}\n"
     ]
    }
   ],
   "source": [
    "test_retrieval_strategy(URL, NODE_NUM) # Wow! Only one line of code is necessary to test retrieval by sequence number!"
   ]
  },
  {
   "cell_type": "markdown",
   "metadata": {},
   "source": [
    "As you can see, the number of retrieve operations (denoted by $R$), on average, is $E[R]=O(n)$ for $n$ equal to the number of nodes. You can check this by noting that there is a $1/n$ chance of picking any number from nodes 0 to $n-1$, meaning we need from 1 to $n$ retrievals. Therefore, if we sum up the first $n$ numbers, we get $n(n+1)/2$, which means the average number of retrievals is $(n+1)/2$. The worst case happens when we try to get node 0 (the very first node), in which case the number of retrievals required is $n$. However, the number of links required for this setup is only equal to $n-1$. If we cannot find the link, all the nodes must be traversed."
   ]
  },
  {
   "cell_type": "markdown",
   "metadata": {},
   "source": [
    "### 2. Linking to all previous nodes\n",
    "\n",
    "In this test, each node will link to all the previous nodes in the chain."
   ]
  },
  {
   "cell_type": "code",
   "execution_count": 16,
   "metadata": {},
   "outputs": [],
   "source": [
    "class ComprehensiveStrategy(LinkStrategy):\n",
    "\n",
    "    def get_linked_nodes(self, params: LinkStrategyParams) -> IPAROLinkCollection:\n",
    "        if params.node_num == 0:\n",
    "            return IPAROLinkCollection([])\n",
    "        cid = params.latest_cid\n",
    "        links = [params.link]\n",
    "        while True:\n",
    "            previous_links = ipfs.retrieve_links(cid)\n",
    "            previous_link = previous_links.previous\n",
    "            if previous_link is None:\n",
    "                break\n",
    "            links.append(previous_link)\n",
    "            cid = previous_link.cid\n",
    "        return IPAROLinkCollection(links)"
   ]
  },
  {
   "cell_type": "markdown",
   "metadata": {},
   "source": [
    "#### Storing Nodes"
   ]
  },
  {
   "cell_type": "markdown",
   "metadata": {},
   "source": [
    "From here, there are 2 ways of creating a new node for this linking strategy, since this is a simulation, no data corruption can happen but that might not be true in practice. When retrieving the latest node which should contain the CIDs of all the previous node, two scenarios can happen:\n",
    "1. The data is intact and the CIDs in the list is \"correct\" (which we really can't know for sure) and we can just add it to the new node we're creating\n",
    "2. The data is corrupt and one or more of the CIDs is wrong or unfinished, in which case we have to recheck every CID to rebuild a new list of linked CIDs (not to mention fixing all the corrupted nodes)\n",
    "\n",
    "So, for the purpose of this simulation, we will perform a check for every CID to simulate the worst case scenario every time"
   ]
  },
  {
   "cell_type": "code",
   "execution_count": 17,
   "metadata": {},
   "outputs": [
    {
     "name": "stdout",
     "output_type": "stream",
     "text": [
      "Number of operations IPNS performed:\n",
      "{'get': 99, 'update': 100}\n",
      "Number of operations IPFS performed:\n",
      "{'hash': 100, 'store': 100, 'retrieve': 5049}\n"
     ]
    }
   ],
   "source": [
    "# Testing parameters\n",
    "NODE_NUM = 100\n",
    "URL = \"example.com\"\n",
    "test_storage_strategy(ComprehensiveStrategy(), URL, NODE_NUM)"
   ]
  },
  {
   "cell_type": "markdown",
   "metadata": {},
   "source": [
    "In this worst case scenario, where we have to retrieve and verify every CIDs in the linked CIDs of an IPARO, the retrieve count goes to more than 5000 (if we're storing 100 nodes). We count link retrievals as one retrieval each, and we need to all the CIDs, which is why the cost is that high.\\\n",
    "Of course this trade off makes it really easy to navigate to all the nodes just from the latest nodes, as you can see from the next section."
   ]
  },
  {
   "cell_type": "markdown",
   "metadata": {},
   "source": [
    "#### Retrieving nodes\n",
    "\n",
    "The following section tests retrieval of nodes by simulating a random node search."
   ]
  },
  {
   "cell_type": "code",
   "execution_count": 18,
   "metadata": {},
   "outputs": [
    {
     "name": "stdout",
     "output_type": "stream",
     "text": [
      "Looking for node with sequence number: 81\n",
      "Node found with contents: Node 81\n",
      "Number of operations IPNS performed:\n",
      "{'get': 1, 'update': 0}\n",
      "Number of operations IPFS performed:\n",
      "{'hash': 0, 'store': 0, 'retrieve': 2}\n"
     ]
    }
   ],
   "source": [
    "test_retrieval_strategy(URL, NODE_NUM)"
   ]
  },
  {
   "cell_type": "markdown",
   "metadata": {},
   "source": [
    "The number of IPFS retrievals drops down to 1. This is because the links connect to all the nodes. Of course, this has a tradeoff of being not only hard to build (costs $n(n-1)/2$ IPFS retrievals to set up) but also space-inefficient (needs $n(n-1)/2$ links)."
   ]
  },
  {
   "cell_type": "markdown",
   "metadata": {},
   "source": [
    "### 3. Linking to previous and first node\n",
    "\n",
    "In this test, each node will link to the previous node and the first node in the chain."
   ]
  },
  {
   "cell_type": "code",
   "execution_count": 19,
   "metadata": {},
   "outputs": [],
   "source": [
    "class KPreviousStrategy(LinkStrategy):\n",
    "\n",
    "    def __init__(self, k: int):\n",
    "        self.k = k\n",
    "\n",
    "    def get_linked_nodes(self, params: LinkStrategyParams) -> IPAROLinkCollection:\n",
    "        first_link: Optional[IPAROLink] = params.latest_node_links.first\n",
    "\n",
    "        if params.latest_cid is None:\n",
    "            # Case 1: There are no nodes, so no links.\n",
    "            return IPAROLinkCollection([])\n",
    "        elif first_link is None:\n",
    "            # Case 2: There is one node, but first_link has not been updated yet. This means the latest CID is the\n",
    "            # first ID\n",
    "            return IPAROLinkCollection([IPAROLink(seq_num=0,\n",
    "                                                  timestamp=params.latest_node.timestamp, cid=params.latest_cid)])\n",
    "        cid = params.latest_cid\n",
    "        links = [first_link, params.link]\n",
    "\n",
    "        i = 1\n",
    "        while i < self.k:\n",
    "            previous = ipfs.retrieve_links(cid).previous\n",
    "            if previous.cid == first_link.cid:\n",
    "                break\n",
    "            links.append(previous)\n",
    "            cid = previous.cid\n",
    "            i += 1\n",
    "        return IPAROLinkCollection(links)\n",
    "\n",
    "class PreviousStrategy(KPreviousStrategy):\n",
    "\n",
    "    def __init__(self):\n",
    "        super().__init__(1)"
   ]
  },
  {
   "cell_type": "markdown",
   "metadata": {},
   "source": [
    "#### Storing Nodes"
   ]
  },
  {
   "cell_type": "code",
   "execution_count": 20,
   "metadata": {},
   "outputs": [
    {
     "name": "stdout",
     "output_type": "stream",
     "text": [
      "Number of operations IPNS performed:\n",
      "{'get': 100, 'update': 100}\n",
      "Number of operations IPFS performed:\n",
      "{'hash': 100, 'store': 100, 'retrieve': 199}\n"
     ]
    }
   ],
   "source": [
    "# The beautiful thing about this method is it automatically does the setup and cleanup for you!\n",
    "NODE_NUM = 100\n",
    "URL = \"example.com\"\n",
    "\n",
    "test_storage_strategy(PreviousStrategy(), URL, NODE_NUM)"
   ]
  },
  {
   "cell_type": "markdown",
   "metadata": {},
   "source": [
    "#### Retrieving Nodes"
   ]
  },
  {
   "cell_type": "code",
   "execution_count": 21,
   "metadata": {},
   "outputs": [
    {
     "name": "stdout",
     "output_type": "stream",
     "text": [
      "Looking for node with sequence number: 76\n",
      "Node found with contents: Node 76\n",
      "Number of operations IPNS performed:\n",
      "{'get': 1, 'update': 0}\n",
      "Number of operations IPFS performed:\n",
      "{'hash': 0, 'store': 0, 'retrieve': 24}\n"
     ]
    }
   ],
   "source": [
    "test_retrieval_strategy(URL, NODE_NUM)"
   ]
  },
  {
   "cell_type": "markdown",
   "metadata": {},
   "source": [
    "Linking to previous and first node does not help much with the number of retrievals. The worst case scenario, if the node is guaranteed to be in the IPFS, happens precisely when node 1 is the node to search, which means it takes $n-1$ retrievals. Assuming a uniform distribution, the average number of retrievals $E[R]$ is cut down by $1-1/n$ because there are $n-1$ fewer operations to search for node 0 (i.e. from $n$ to 1, but the other $n-1$ nodes take the same number of operations to find."
   ]
  },
  {
   "cell_type": "markdown",
   "metadata": {},
   "source": [
    "### 4. Linking to K-previous and first node\n",
    "\n",
    "In this test, each node will link to K previous node and the first node in the chain."
   ]
  },
  {
   "cell_type": "markdown",
   "metadata": {},
   "source": [
    "#### Storing Nodes"
   ]
  },
  {
   "cell_type": "code",
   "execution_count": 22,
   "metadata": {},
   "outputs": [
    {
     "name": "stdout",
     "output_type": "stream",
     "text": [
      "Number of operations IPNS performed:\n",
      "{'get': 100, 'update': 100}\n",
      "Number of operations IPFS performed:\n",
      "{'hash': 100, 'store': 100, 'retrieve': 585}\n"
     ]
    }
   ],
   "source": [
    "# Testing parameters\n",
    "NODE_NUM = 100\n",
    "URL = \"example.com\"\n",
    "K = 5\n",
    "\n",
    "test_storage_strategy(KPreviousStrategy(K), URL, NODE_NUM)"
   ]
  },
  {
   "cell_type": "markdown",
   "metadata": {},
   "source": [
    "#### Retrieving Nodes"
   ]
  },
  {
   "cell_type": "code",
   "execution_count": 23,
   "metadata": {},
   "outputs": [
    {
     "name": "stdout",
     "output_type": "stream",
     "text": [
      "Looking for node with sequence number: 51\n",
      "Node found with contents: Node 51\n",
      "Number of operations IPNS performed:\n",
      "{'get': 1, 'update': 0}\n",
      "Number of operations IPFS performed:\n",
      "{'hash': 0, 'store': 0, 'retrieve': 11}\n"
     ]
    }
   ],
   "source": [
    "test_retrieval_strategy(URL, NODE_NUM)"
   ]
  },
  {
   "cell_type": "markdown",
   "metadata": {},
   "source": [
    "In the worst case, we would expect to take $n/k+O(1)$ retrieval operations, which happens if the node to find has sequence number between 1 and $n-k\\lfloor n/k\\rfloor$. The expected number of retrieval operations is not much better asymptotically: it takes (on average) $n/(2k)+O(1)$ operations, assuming a uniform distribution."
   ]
  },
  {
   "cell_type": "markdown",
   "metadata": {},
   "source": [
    "### 5. Linking to K-random and first node\n",
    "\n",
    "In this test, each node will link to a random K previous node and the first node in the chain. We could use a heuristic based on the closest target to the target node (given its sequence number)."
   ]
  },
  {
   "cell_type": "code",
   "execution_count": 24,
   "metadata": {},
   "outputs": [],
   "source": [
    "class KRandomStrategy(LinkStrategy):\n",
    "\n",
    "    def __init__(self, k_min: int, k_max: int):\n",
    "        self.k_min = k_min\n",
    "        self.k_max = k_max\n",
    "\n",
    "    def get_linked_nodes(self, params: LinkStrategyParams) -> IPAROLinkCollection:\n",
    "        k = random.randint(self.k_min, self.k_max)\n",
    "        # Check if the number of linked CIDs is greater than K and add K-1 random linked CIDs\n",
    "        latest_node_links = params.latest_node_links.links\n",
    "        links = [latest_node_links[0]] if len(latest_node_links) > 0 else []\n",
    "        if len(latest_node_links) > k:\n",
    "            links.extend(random.sample(latest_node_links[1:], k - 1))\n",
    "        # If the number of linked CIDs is less than K add all the linked CIDs\n",
    "        else:\n",
    "            links.extend(latest_node_links[1:])\n",
    "\n",
    "        if params.link is not None:\n",
    "            links.append(params.link)\n",
    "\n",
    "        return IPAROLinkCollection(links)"
   ]
  },
  {
   "cell_type": "markdown",
   "metadata": {},
   "source": [
    "#### Storing Nodes"
   ]
  },
  {
   "cell_type": "code",
   "execution_count": 25,
   "metadata": {
    "scrolled": true
   },
   "outputs": [
    {
     "name": "stdout",
     "output_type": "stream",
     "text": [
      "Number of operations IPNS performed:\n",
      "{'get': 100, 'update': 100}\n",
      "Number of operations IPFS performed:\n",
      "{'hash': 100, 'store': 100, 'retrieve': 200}\n"
     ]
    }
   ],
   "source": [
    "import random\n",
    "\n",
    "# Testing parameters\n",
    "NODE_NUM = 100\n",
    "URL = \"example.com\"\n",
    "Kmin = 5\n",
    "Kmax = 10\n",
    "\n",
    "test_storage_strategy(KRandomStrategy(Kmin, Kmax), URL, NODE_NUM)"
   ]
  },
  {
   "cell_type": "markdown",
   "metadata": {},
   "source": [
    "#### Retrieving nodes"
   ]
  },
  {
   "cell_type": "code",
   "execution_count": 26,
   "metadata": {},
   "outputs": [
    {
     "name": "stdout",
     "output_type": "stream",
     "text": [
      "Looking for node with sequence number: 94\n",
      "Node found with contents: Node 94\n",
      "Number of operations IPNS performed:\n",
      "{'get': 1, 'update': 0}\n",
      "Number of operations IPFS performed:\n",
      "{'hash': 0, 'store': 0, 'retrieve': 3}\n"
     ]
    }
   ],
   "source": [
    "test_retrieval_strategy(URL, NODE_NUM)"
   ]
  },
  {
   "cell_type": "markdown",
   "metadata": {},
   "source": [
    "The theoretical worst-case scenario for K-random would be if all the random links (for nodes indexed $k+1$ to $n$) point to the first $k$ nodes and the node to find has index $k+1$. Then, it would take $n-(k+1)$ hops to find it. But on average, we can try forming a recurrence relation. Let $p$ be the probability that there is at least one link with sequence number between $m$ and $n-2$. If we assume that $d$ is the difference between the two indices $n$ and $m$, where $m$ is the target node index and $n$ is the current node index, then the probability a uniformly distributed random node has sequence number between $m$ and $n-2$ is $\\frac{n-m-2}{n}=1-\\frac{m+2}{n}$.\n",
    "\n",
    "For the average case scenario, with the assumption that the distribution is uniform, we can perhaps try modeling the expected amount of time. There are $k$ randomly distributed nodes, so the probability that there are *no* links with sequence number between $m$ and $n-2$ is $1-p=\\left(1-\\frac{n-m+2}{n}\\right)^k=\\left(1-\\frac{d+2}{n}\\right)^k$. Taking the complement yields $p=1-\\left(1-\\frac{m+2}{n}\\right)^k.$ This means the expectation of the distance traveled $D$ is \n",
    "$$E[D]=\\left(1-\\frac{d+2}{n}\\right)^k+\\left[1-\\left(1-\\frac{d+2}{n}\\right)^k\\right](d/2).$$\n",
    "This means when $d+2=cn$ for some $0<c<1$ (equivalently, $d=O(n)$), then we have $E[D]=(1-(1-c)^k)(d/2)+(1-c)^k=O(n)$, which means on average, $T(d)=1+T((1-(1-c)^k/2)d)$. In other words, at the beginning, when the distance is large, it seems like the average-case requires logarithmic time. But then at $d=O(\\sqrt{n})$, $E[D]$ now becomes $(1-1/\\sqrt{n})^k+[1-(1-1/\\sqrt{n})^k]\\approx (1-1/\\sqrt{n})^k+(1-(1-k/\\sqrt{n}+O(1/n)))\\sqrt{n}/2$, which is equal to\n",
    "$(1-1/\\sqrt{n})^k+(k/\\sqrt{n}+O(1/n))\\sqrt{n}/2=(1-1/\\sqrt{n})^k+k/2=O(1)$ as $n\\to\\infty$ since $k=O(1)$.\n",
    "\n",
    "That means when $d=O(\\sqrt{n})$, the recurrence relation of the expected amount of time is linear: $T(d)=1+T(d-O(1))$. The math can be hard to understand, but the implication is that the average amount of time to access a random node with K-random nodes is given by $O(\\sqrt{n})+O(\\log{n})=O(\\sqrt{n})$ since $\\sqrt{n}$ dominates $\\log{n}$."
   ]
  },
  {
   "cell_type": "markdown",
   "metadata": {},
   "source": [
    "### 6. Linking to Sequential Exponential (Base K)"
   ]
  },
  {
   "cell_type": "code",
   "execution_count": 27,
   "metadata": {},
   "outputs": [],
   "source": [
    "class SequentialExponentialStrategy(LinkStrategy):\n",
    "\n",
    "    def __init__(self, k: float):\n",
    "        self.k = k\n",
    "\n",
    "    def get_linked_nodes(self, params: LinkStrategyParams) -> IPAROLinkCollection:\n",
    "\n",
    "        if params.node_num < 3:\n",
    "            return ComprehensiveStrategy().get_linked_nodes(params)\n",
    "        # Required: node_num >= 2\n",
    "        indices: set[int] = {0, params.node_num - 1}\n",
    "        index = 1.0\n",
    "        while index < params.node_num:\n",
    "            indices.add(params.node_num - floor(index))\n",
    "            index *= self.k\n",
    "\n",
    "        links = []\n",
    "\n",
    "        for i in indices:\n",
    "            cid = ipfs.retrieve_by_number(params.url, i)\n",
    "            node = ipfs.retrieve(cid)\n",
    "            link = IPAROLink(seq_num=i, timestamp=node.timestamp, cid=cid)\n",
    "            links.append(link)\n",
    "\n",
    "        return IPAROLinkCollection(links)"
   ]
  },
  {
   "cell_type": "markdown",
   "metadata": {},
   "source": [
    "#### Storing nodes"
   ]
  },
  {
   "cell_type": "code",
   "execution_count": 28,
   "metadata": {},
   "outputs": [
    {
     "name": "stdout",
     "output_type": "stream",
     "text": [
      "Number of operations IPNS performed:\n",
      "{'get': 279, 'update': 50}\n",
      "Number of operations IPFS performed:\n",
      "{'hash': 50, 'store': 50, 'retrieve': 806}\n"
     ]
    }
   ],
   "source": [
    "# Test Parameters\n",
    "K = 2\n",
    "URL = \"example.com\"\n",
    "NODE_NUM = 50\n",
    "\n",
    "test_storage_strategy(SequentialExponentialStrategy(K), URL, NODE_NUM)"
   ]
  },
  {
   "cell_type": "markdown",
   "metadata": {},
   "source": [
    "As you can see, the number of retrievals required for the IPFS is less than that of the comprehensive strategy, but greater than that of the single and K-previous strategies. In fact, the number of links $L$ is\n",
    "$$L\\approx \\sum_{i=1}^n{O(\\log_k{(i)})}=O(n\\log{n})$$\n",
    "We could use a heuristic based on the closest target, which for two indices $m$ and $n$ means only $O(\\log{(\\max{(m, n)})})$ hops are necessary in the worst case scenario."
   ]
  },
  {
   "cell_type": "code",
   "execution_count": 29,
   "metadata": {},
   "outputs": [
    {
     "name": "stdout",
     "output_type": "stream",
     "text": [
      "Looking for node with sequence number: 49\n",
      "Node found with contents: Node 49\n",
      "Number of operations IPNS performed:\n",
      "{'get': 1, 'update': 0}\n",
      "Number of operations IPFS performed:\n",
      "{'hash': 0, 'store': 0, 'retrieve': 1}\n"
     ]
    }
   ],
   "source": [
    "test_retrieval_strategy(URL, NODE_NUM)"
   ]
  },
  {
   "cell_type": "markdown",
   "metadata": {},
   "source": [
    "### 7. Linking to sequentially uniform N-prior"
   ]
  },
  {
   "cell_type": "code",
   "execution_count": 33,
   "metadata": {},
   "outputs": [],
   "source": [
    "class SequentialUniformNPriorStrategy(LinkStrategy):\n",
    "\n",
    "    def __init__(self, n: int):\n",
    "        self.n = n\n",
    "\n",
    "    def get_linked_nodes(self, params: LinkStrategyParams) -> IPAROLinkCollection:\n",
    "        # Special case: No nodes in collection\n",
    "        if params.node_num == 0:\n",
    "            return IPAROLinkCollection([])\n",
    "        indices: set[int] = {(params.node_num - 1) * i // self.n for i in range(self.n + 1)}\n",
    "\n",
    "        links = []\n",
    "\n",
    "        for i in indices:\n",
    "            cid = ipfs.retrieve_by_number(params.url, i)\n",
    "            node = ipfs.retrieve(cid)\n",
    "            link = IPAROLink(seq_num=i, timestamp=node.timestamp, cid=cid)\n",
    "            links.append(link)\n",
    "\n",
    "        return IPAROLinkCollection(links)"
   ]
  },
  {
   "cell_type": "markdown",
   "metadata": {},
   "source": [
    "#### Storing Nodes"
   ]
  },
  {
   "cell_type": "code",
   "execution_count": 34,
   "metadata": {},
   "outputs": [
    {
     "name": "stdout",
     "output_type": "stream",
     "text": [
      "Number of operations IPNS performed:\n",
      "{'get': 484, 'update': 50}\n",
      "Number of operations IPFS performed:\n",
      "{'hash': 50, 'store': 50, 'retrieve': 1224}\n"
     ]
    }
   ],
   "source": [
    "# Test Parameters\n",
    "num_links = 10\n",
    "URL = \"example.com\"\n",
    "NODE_NUM = 50\n",
    "\n",
    "test_storage_strategy(SequentialUniformNPriorStrategy(num_links), URL, NODE_NUM)"
   ]
  },
  {
   "cell_type": "markdown",
   "metadata": {},
   "source": [
    "#### Retrieving Nodes"
   ]
  },
  {
   "cell_type": "code",
   "execution_count": 152,
   "metadata": {
    "scrolled": true
   },
   "outputs": [
    {
     "name": "stdout",
     "output_type": "stream",
     "text": [
      "Looking for node with sequence number: 41\n",
      "Node found with contents: Node 41\n",
      "Number of operations IPNS performed:\n",
      "{'get': 1, 'update': 0}\n",
      "Number of operations IPFS performed:\n",
      "{'hash': 0, 'store': 0, 'retrieve': 4}\n"
     ]
    }
   ],
   "source": [
    "test_retrieval_strategy(URL, NODE_NUM)"
   ]
  },
  {
   "cell_type": "markdown",
   "metadata": {},
   "source": [
    "The number of retrievals required for sequential uniform (assuming $k$ prior nodes are selected out of $n$ total nodes) is at most $n/k+O(1)$ where $k$ is the number of prior nodes, and this can happen when we want to find node with sequence number one greater than the sequence number of the nearest link."
   ]
  },
  {
   "cell_type": "markdown",
   "metadata": {},
   "source": [
    "### Other strategies to be tested"
   ]
  }
 ],
 "metadata": {
  "kernelspec": {
   "display_name": "Python 3 (ipykernel)",
   "language": "python",
   "name": "python3"
  },
  "language_info": {
   "codemirror_mode": {
    "name": "ipython",
    "version": 3
   },
   "file_extension": ".py",
   "mimetype": "text/x-python",
   "name": "python",
   "nbconvert_exporter": "python",
   "pygments_lexer": "ipython3",
   "version": "3.12.1"
  }
 },
 "nbformat": 4,
 "nbformat_minor": 4
}
