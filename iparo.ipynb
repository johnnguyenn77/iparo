{
 "cells": [
  {
   "cell_type": "markdown",
   "metadata": {},
   "source": [
    "# IPARO Implementation using IPFS\n",
    "\n",
    "This notebook demonstrates a simple implementation of InterPlanetary Archival Record Objects (IPAROs) using IPFS. We'll create, store, and link IPAROs, and explore how to retrieve and navigate between them.\n",
    "\n",
    "## Prerequisites\n",
    "\n",
    "1. Install IPFS and ensure it's running on your system with:\n",
    "\n",
    "   ```bash\n",
    "   ipfs daemon\n",
    "2. Install the `requests` library for Python to interact with the IPFS HTTP API.\n",
    "\n",
    "   ```bash\n",
    "   pip install requests"
   ]
  },
  {
   "cell_type": "code",
   "execution_count": 1,
   "metadata": {},
   "outputs": [],
   "source": [
    "import json\n",
    "import requests\n",
    "from datetime import datetime\n",
    "\n",
    "# IPFS API URL\n",
    "ipfs_api_url = 'http://127.0.0.1:5001/api/v0'"
   ]
  },
  {
   "cell_type": "markdown",
   "metadata": {},
   "source": [
    "## Step 2: Define Functions for Creating and Storing IPAROs\n",
    "\n",
    "We will define functions to create IPAROs, add them to IPFS, and update links between them."
   ]
  },
  {
   "cell_type": "code",
   "execution_count": 2,
   "metadata": {},
   "outputs": [],
   "source": [
    "def create_iparo(content, prev_cid=None, next_cid=None):\n",
    "    \"\"\"\n",
    "    Create an IPARO with the given content and links to previous and next IPAROs.\n",
    "\n",
    "    Args:\n",
    "        content (str): The content of the IPARO (WARC files which we're simplifyng into a string).\n",
    "        prev_cid (str): CID of the previous IPARO.\n",
    "        next_cid (str): CID of the next IPARO.\n",
    "\n",
    "    Returns:\n",
    "        dict: The created IPARO.\n",
    "    \"\"\"\n",
    "    iparo = {\n",
    "        'content': content,\n",
    "        'prev_cid': prev_cid,\n",
    "        'next_cid': next_cid,\n",
    "        'timestamp': datetime.utcnow().isoformat()\n",
    "    }\n",
    "    return iparo\n",
    "\n",
    "\n",
    "def add_to_ipfs(iparo):\n",
    "    \"\"\"\n",
    "    Add the given IPARO to IPFS and return its CID.\n",
    "\n",
    "    Args:\n",
    "        iparo (dict): The IPARO to add to IPFS.\n",
    "\n",
    "    Returns:\n",
    "        str: The CID of the added IPARO.\n",
    "    \"\"\"\n",
    "    iparo_json = json.dumps(iparo)\n",
    "    response = requests.post(f'{ipfs_api_url}/add', files={'file': iparo_json})\n",
    "    cid = response.json()['Hash']\n",
    "    return cid"
   ]
  },
  {
   "cell_type": "markdown",
   "metadata": {},
   "source": [
    "## Step 3: Create and Link IPAROs\n",
    "\n",
    "We will create a few IPAROs and link them in a singly linked list."
   ]
  },
  {
   "cell_type": "code",
   "execution_count": 3,
   "metadata": {},
   "outputs": [
    {
     "name": "stdout",
     "output_type": "stream",
     "text": [
      "CID of IPARO 1: QmfE4qtpdmB3cnmSowdwiFvK3Lrot9TzLMaeSGThYhcs5o\n",
      "CID of IPARO 2: Qme3cECUhX4p5JUDHtttaNEzK8bcigpTrrRgQ95r1sadp6\n",
      "Updated CID of IPARO 1: QmVWVtrGP2p9skf7RqR7Z1qV2dox6EdkZRvkLGvDXUmhvS\n"
     ]
    },
    {
     "name": "stderr",
     "output_type": "stream",
     "text": [
      "C:\\Users\\nguye\\AppData\\Local\\Temp\\ipykernel_26768\\1917769096.py:17: DeprecationWarning: datetime.datetime.utcnow() is deprecated and scheduled for removal in a future version. Use timezone-aware objects to represent datetimes in UTC: datetime.datetime.now(datetime.UTC).\n",
      "  'timestamp': datetime.utcnow().isoformat()\n"
     ]
    }
   ],
   "source": [
    "# Create initial IPARO\n",
    "iparo1 = create_iparo('Initial content')\n",
    "cid1 = add_to_ipfs(iparo1)\n",
    "\n",
    "# Create second IPARO and link to the first\n",
    "iparo2 = create_iparo('Second version', prev_cid=cid1)\n",
    "cid2 = add_to_ipfs(iparo2)\n",
    "\n",
    "# Update first IPARO to include link to the second\n",
    "iparo1['next_cid'] = cid2\n",
    "cid1_updated = add_to_ipfs(iparo1)\n",
    "\n",
    "# Print CIDs\n",
    "print(f\"CID of IPARO 1: {cid1}\")\n",
    "print(f\"CID of IPARO 2: {cid2}\")\n",
    "print(f\"Updated CID of IPARO 1: {cid1_updated}\")"
   ]
  },
  {
   "cell_type": "markdown",
   "metadata": {},
   "source": [
    "## Step 4: Retrieve and Navigate IPAROs\n",
    "\n",
    "We will define a function to retrieve IPAROs from IPFS and demonstrate how to navigate between them.\n"
   ]
  },
  {
   "cell_type": "code",
   "execution_count": 4,
   "metadata": {},
   "outputs": [
    {
     "name": "stdout",
     "output_type": "stream",
     "text": [
      "Retrieved IPARO 1: {\n",
      "  \"content\": \"Initial content\",\n",
      "  \"prev_cid\": null,\n",
      "  \"next_cid\": \"Qme3cECUhX4p5JUDHtttaNEzK8bcigpTrrRgQ95r1sadp6\",\n",
      "  \"timestamp\": \"2024-07-13T15:02:09.183282\"\n",
      "} \n",
      "\n",
      "Retrieved IPARO 2: {\n",
      "  \"content\": \"Second version\",\n",
      "  \"prev_cid\": \"QmfE4qtpdmB3cnmSowdwiFvK3Lrot9TzLMaeSGThYhcs5o\",\n",
      "  \"next_cid\": null,\n",
      "  \"timestamp\": \"2024-07-13T15:02:09.242960\"\n",
      "}\n"
     ]
    }
   ],
   "source": [
    "def get_iparo(cid):\n",
    "    \"\"\"\n",
    "    Retrieve an IPARO from IPFS using its CID.\n",
    "\n",
    "    Args:\n",
    "        cid (str): The CID of the IPARO to retrieve.\n",
    "\n",
    "    Returns:\n",
    "        dict: The retrieved IPARO.\n",
    "    \"\"\"\n",
    "    response = requests.post(f'{ipfs_api_url}/cat?arg={cid}')\n",
    "    iparo_json = response.content.decode('utf-8')\n",
    "    iparo = json.loads(iparo_json)\n",
    "    return iparo\n",
    "\n",
    "\n",
    "# Retrieve and print IPARO 1\n",
    "retrieved_iparo1 = get_iparo(cid1_updated)\n",
    "print(\"Retrieved IPARO 1:\", json.dumps(retrieved_iparo1, indent=2), \"\\n\")\n",
    "\n",
    "# Retrieve and print IPARO 2\n",
    "retrieved_iparo2 = get_iparo(retrieved_iparo1['next_cid'])\n",
    "print(\"Retrieved IPARO 2:\", json.dumps(retrieved_iparo2, indent=2))"
   ]
  },
  {
   "cell_type": "markdown",
   "metadata": {},
   "source": [
    "## Summary\n",
    "\n",
    "This notebook demonstrates a very basic implementation of IPAROs as a doubly linked list using IPFS. We created, stored, linked, and retrieved IPAROs, providing a foundational understanding of how to work with decentralized web archiving objects. Below are some possible metrics that can be used to test implementations of IPAROs with explainations\n"
   ]
  },
  {
   "cell_type": "markdown",
   "metadata": {},
   "source": [
    "## Possible Metrics to Test with the IPARO Data Structure\n",
    "\n",
    "### 1. **Storage Efficiency**\n",
    "\n",
    "- **Data Size**: Measure the size of each IPARO stored in IPFS. Compare the storage size of the original content with the IPARO structure to understand the overhead introduced by metadata and linking information.\n",
    "- **Deduplication**: Evaluate how well the data structure handles duplicate content. Since IPFS uses content-based addressing, identical content should only be stored once. Check the storage savings achieved through deduplication.\n",
    "\n",
    "### 2. **Retrieval Time**\n",
    "\n",
    "- **Latency**: Measure the time it takes to retrieve an IPARO from IPFS. This includes the time to fetch the IPARO from the network and decode the content.\n",
    "- **Traversal Time**: For linked IPAROs, measure the time required to traverse from one IPARO to another, especially when navigating through a sequence of linked versions.\n",
    "\n",
    "### 3. **Version Control**\n",
    "\n",
    "- **Version Linking**: Test the efficiency of linking and retrieving multiple versions of content. Ensure that each version correctly references the previous and next versions, and measure the ease of navigating between them.\n",
    "- **Conflict Resolution**: If implementing a more complex linking method (e.g., graph-based), test the system’s ability to handle conflicts and merge changes from different versions.\n",
    "\n",
    "### 4. **Scalability**\n",
    "\n",
    "- **Large-scale Archiving**: Evaluate the performance of the IPARO data structure with a large number of archived objects. Test how the system scales as the number of IPAROs increases, particularly in terms of storage and retrieval time.\n",
    "- **Network Performance**: Measure the impact on network performance when adding and retrieving a large number of IPAROs. Assess the bandwidth usage and the system’s ability to handle network congestion.\n",
    "\n",
    "### 5. **Data Integrity**\n",
    "\n",
    "- **Content Verification**: Verify the integrity of the stored content by comparing the original content with the retrieved IPARO content. Check for any data corruption or loss.\n",
    "- **Merkle Trees**: If using Merkle trees for linking, test the efficiency and reliability of the structure for verifying data integrity.\n",
    "\n",
    "### 6. **Redundancy and Reliability**\n",
    "\n",
    "- **Replication**: Test the redundancy mechanisms in IPFS to ensure that IPAROs remain accessible even if some nodes in the network go down. Measure the replication factor and the reliability of data retrieval under different network conditions.\n",
    "- **Pinning**: Evaluate the effectiveness of pinning IPAROs to ensure they are retained in the IPFS network. Measure the success rate of retrieving pinned IPAROs over time.\n",
    "\n",
    "### 7. **Access Control**\n",
    "\n",
    "- **Permission Management**: If implementing access control mechanisms, test the system’s ability to manage permissions for different users. Ensure that only authorized users can access, modify, or delete IPAROs.\n",
    "- **Audit Logs**: Evaluate the system’s ability to maintain audit logs of access and modifications to IPAROs. Measure the efficiency of tracking changes and retrieving audit logs.\n"
   ]
  }
 ],
 "metadata": {
  "kernelspec": {
   "display_name": "Python 3 (ipykernel)",
   "language": "python",
   "name": "python3"
  },
  "language_info": {
   "codemirror_mode": {
    "name": "ipython",
    "version": 3
   },
   "file_extension": ".py",
   "mimetype": "text/x-python",
   "name": "python",
   "nbconvert_exporter": "python",
   "pygments_lexer": "ipython3",
   "version": "3.12.2"
  }
 },
 "nbformat": 4,
 "nbformat_minor": 4
}
