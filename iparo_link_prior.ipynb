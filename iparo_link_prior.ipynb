{
 "cells": [
  {
   "cell_type": "markdown",
   "metadata": {},
   "source": [
    "# IPARO Implementation using IPFS\n",
    "\n",
    "This notebook demonstrates a simple implementation of InterPlanetary Archival Record Objects (IPAROs) using IPFS. We'll create, store, and link IPAROs where a node only link to one prior node, and explore how to retrieve and navigate between them.\n",
    "\n",
    "## Step 1: Prerequisites\n",
    "\n",
    "- Install IPFS and ensure it's running on your system with:\n",
    "\n",
    "   ```bash\n",
    "   ipfs daemon\n",
    "   ```"
   ]
  },
  {
   "cell_type": "code",
   "execution_count": 82,
   "metadata": {},
   "outputs": [],
   "source": [
    "import json\n",
    "import requests\n",
    "import time\n",
    "from datetime import datetime, UTC\n",
    "\n",
    "# IPFS API URL\n",
    "ipfs_api_url = 'http://127.0.0.1:5001/api/v0'"
   ]
  },
  {
   "cell_type": "markdown",
   "metadata": {},
   "source": [
    "## Step 2: Define Functions for Creating and Storing IPAROs\n",
    "\n",
    "We will define functions to create IPAROs, add them to IPFS, and update links between them."
   ]
  },
  {
   "cell_type": "code",
   "execution_count": 83,
   "metadata": {},
   "outputs": [],
   "source": [
    "def create_iparo(content: str, prev_cid=None) -> dict:\n",
    "    \"\"\"\n",
    "    Create an IPARO with the given content and links to previous and next IPAROs.\n",
    "\n",
    "    Args:\n",
    "        content (str): The content of the IPARO.\n",
    "        prev_cids (list): List of CIDs of the previous IPAROs.\n",
    "        next_cid (str): CID of the next IPARO.\n",
    "\n",
    "    Returns:\n",
    "        dict: The created IPARO.\n",
    "    \"\"\"\n",
    "    iparo = {\n",
    "        'content': content,\n",
    "        'prev_cid': prev_cid,\n",
    "        'timestamp': datetime.now(UTC).isoformat()\n",
    "    }\n",
    "    return iparo\n",
    "\n",
    "\n",
    "def add_to_ipfs(iparo: dict) -> str:\n",
    "    \"\"\"\n",
    "    Add the given IPARO to IPFS and return its CID.\n",
    "\n",
    "    Args:\n",
    "        iparo (dict): The IPARO to add to IPFS.\n",
    "\n",
    "    Returns:\n",
    "        str: The CID of the added IPARO.\n",
    "    \"\"\"\n",
    "    iparo_json = json.dumps(iparo)\n",
    "    response = requests.post(f'{ipfs_api_url}/add', files={'file': iparo_json})\n",
    "    cid = response.json()['Hash']\n",
    "    return cid"
   ]
  },
  {
   "cell_type": "markdown",
   "metadata": {},
   "source": [
    "## Step 3: Create function to link created IPAROs"
   ]
  },
  {
   "cell_type": "code",
   "execution_count": 84,
   "metadata": {},
   "outputs": [
    {
     "name": "stdout",
     "output_type": "stream",
     "text": [
      "CIDs (Prior Node): ['QmcQopLFd3KH6wjH15a9kwDfEegcjD8LEKQEwCXmCULP5a', 'QmZLp41syJYC41MY64m5ttdp8JDkm64vuG9Vs9kELvViJb', 'QmdXhZgnGQs3tR5JJQzAqqCspd6v1m4exsGy1hwVp2ZYVC', 'QmcJK8vNmJjRprkFqfYNgMdqEzVTw2cvv7aoPCSVGrUseJ', 'QmYxhdGbWpRixKksM12L2iosarFCHpEzdvu8fDnfDu6XHY', 'QmS2wDk6Q7gLBn9PMBbNgmg8eEyRisZKKxMdSSCvwdRKTh', 'QmUAeZNbYGt5wmisrDfusZvhMN1JKfnatLZxHWN1EYNrxp', 'QmUeLPAxqdF4XCKmDtkzR23APg9dHJY4kNTMSo8CFdDXPV', 'QmTiiwAxSM4zR3TcCnj958CFL3FNkzTKVqyJxqzf7giCce', 'QmPVLQ8kuHb4c1KfRUpD8MvunycfEvUVz5gRpnxERmVVPi']\n"
     ]
    }
   ],
   "source": [
    "def create_chain_prior_node(num_nodes: int) -> list:\n",
    "    \"\"\"\n",
    "    Create a chain of IPAROs where each node links only to the prior node.\n",
    "\n",
    "    Args:\n",
    "        num_nodes (int): The number of nodes to create.\n",
    "\n",
    "    Returns:\n",
    "        list: A list of CIDs for the created IPAROs.\n",
    "    \"\"\"\n",
    "    cids = []\n",
    "    prev_cid = None\n",
    "    for i in range(num_nodes):\n",
    "        content = f\"Node {i + 1}\"\n",
    "        iparo = create_iparo(content, prev_cid=prev_cid)\n",
    "        cid = add_to_ipfs(iparo)\n",
    "        cids.append(cid)\n",
    "        prev_cid = cid\n",
    "    return cids\n",
    "\n",
    "\n",
    "# Example usage\n",
    "cids_prior_node = create_chain_prior_node(10)\n",
    "print(\"CIDs (Prior Node):\", cids_prior_node)"
   ]
  },
  {
   "cell_type": "markdown",
   "metadata": {},
   "source": [
    "## Step 4: Retrieving IPAROs"
   ]
  },
  {
   "cell_type": "code",
   "execution_count": 78,
   "metadata": {},
   "outputs": [
    {
     "name": "stdout",
     "output_type": "stream",
     "text": [
      "Retrieved IPARO 1: {\n",
      "  \"content\": \"Node 10\",\n",
      "  \"prev_cid\": \"QmcYB4PxaBQwwtAazHkytJ9342VWc7XmJ2k1tZrohayyvm\",\n",
      "  \"timestamp\": \"2024-08-13T03:34:32.351973+00:00\"\n",
      "} \n",
      "\n",
      "Retrieved IPARO 2: {\n",
      "  \"content\": \"Node 9\",\n",
      "  \"prev_cid\": \"QmTV7TAegaMKahdH6fCSouJuoytzZijL5vpMhYmjYAaDHa\",\n",
      "  \"timestamp\": \"2024-08-13T03:34:32.328035+00:00\"\n",
      "} \n",
      "\n",
      "Retrieved IPARO 3: {\n",
      "  \"content\": \"Node 8\",\n",
      "  \"prev_cid\": \"QmcQatePQKwFLBhBH9pF9CdyG9p8roCN5uo1X3zEvP1Zi9\",\n",
      "  \"timestamp\": \"2024-08-13T03:34:32.305880+00:00\"\n",
      "}\n"
     ]
    }
   ],
   "source": [
    "def get_iparo(cid: str) -> dict:\n",
    "    \"\"\"\n",
    "    Retrieve an IPARO from IPFS using its CID.\n",
    "\n",
    "    Args:\n",
    "        cid (str): The CID of the IPARO to retrieve.\n",
    "\n",
    "    Returns:\n",
    "        dict: The retrieved IPARO.\n",
    "    \"\"\"\n",
    "    response = requests.post(f'{ipfs_api_url}/cat?arg={cid}')\n",
    "    iparo_json = response.content.decode('utf-8')\n",
    "    iparo = json.loads(iparo_json)\n",
    "    return iparo\n",
    "\n",
    "\n",
    "# Retrieve and print the latest IPARO in the chain\n",
    "retrieved_iparo1 = get_iparo(cids_prior_node[-1])\n",
    "print(\"Retrieved IPARO 1:\", json.dumps(retrieved_iparo1, indent=2), \"\\n\")\n",
    "\n",
    "# Retrieve and print the IPARO before the latest\n",
    "retrieved_iparo2 = get_iparo(retrieved_iparo1['prev_cid'])\n",
    "print(\"Retrieved IPARO 2:\", json.dumps(retrieved_iparo2, indent=2), \"\\n\")\n",
    "\n",
    "retrieved_iparo3 = get_iparo(retrieved_iparo2['prev_cid'])\n",
    "print(\"Retrieved IPARO 3:\", json.dumps(retrieved_iparo3, indent=2))"
   ]
  },
  {
   "cell_type": "markdown",
   "metadata": {},
   "source": [
    "## Step 5: Metric tests\n",
    "\n",
    "### 5.1: Storage Efficiency\n"
   ]
  },
  {
   "cell_type": "code",
   "execution_count": 79,
   "metadata": {},
   "outputs": [
    {
     "name": "stdout",
     "output_type": "stream",
     "text": [
      "Original content size: 20 bytes\n",
      "IPARO size: 102 bytes\n"
     ]
    }
   ],
   "source": [
    "def measure_storage_efficiency(iparo: dict) -> int:\n",
    "    \"\"\"\n",
    "    Measure the size of an IPARO.\n",
    "\n",
    "    Args:\n",
    "        iparo (dict): The IPARO to measure.\n",
    "\n",
    "    Returns:\n",
    "        int: The size of the IPARO in bytes.\n",
    "    \"\"\"\n",
    "    iparo_json = json.dumps(iparo)\n",
    "    return len(iparo_json)\n",
    "\n",
    "\n",
    "def test_storage_efficiency():\n",
    "    content = \"This is a test IPARO\"\n",
    "    iparo = create_iparo(content)\n",
    "    original_size = len(content)\n",
    "    iparo_size = measure_storage_efficiency(iparo)\n",
    "    print(f\"Original content size: {original_size} bytes\")\n",
    "    print(f\"IPARO size: {iparo_size} bytes\")\n",
    "\n",
    "\n",
    "test_storage_efficiency()"
   ]
  },
  {
   "cell_type": "markdown",
   "metadata": {},
   "source": [
    "### 5.2: Retrieval Time"
   ]
  },
  {
   "cell_type": "code",
   "execution_count": 80,
   "metadata": {},
   "outputs": [
    {
     "name": "stdout",
     "output_type": "stream",
     "text": [
      "Retrieved 100 IPAROs\n",
      "Average retrieval time for one node: 0.0038 seconds\n"
     ]
    }
   ],
   "source": [
    "def test_retrieval_time(latest_node_cid: str) -> float:\n",
    "    \"\"\"\n",
    "    Measure the average retrieval time for one node\n",
    "\n",
    "    Args:\n",
    "        latest_node_cid (str): the CID of the latest node in the chain of IPAROs\n",
    "\n",
    "    Returns:\n",
    "        float: the average retrieval time for one node\n",
    "    \"\"\"\n",
    "    times = []\n",
    "    count = 0\n",
    "    node = latest_node_cid\n",
    "\n",
    "    while node != None:\n",
    "        start = time.time()\n",
    "        iparo = get_iparo(node)\n",
    "        end = time.time()\n",
    "        node = iparo[\"prev_cid\"]\n",
    "        count += 1\n",
    "        times.append(end-start)\n",
    "\n",
    "    avg_time = sum(times) / len(times)\n",
    "\n",
    "    print(\"Retrieved %d IPAROs\" % count)\n",
    "\n",
    "    return avg_time\n",
    "\n",
    "\n",
    "cids_prior_node = create_chain_prior_node(100)\n",
    "latest_node_cid = cids_prior_node[-1]\n",
    "avg_time = test_retrieval_time(latest_node_cid)\n",
    "print(f\"Average retrieval time for one node: {avg_time:.4f} seconds\")"
   ]
  },
  {
   "cell_type": "markdown",
   "metadata": {},
   "source": [
    "### 5.3 Scalability"
   ]
  },
  {
   "cell_type": "code",
   "execution_count": 81,
   "metadata": {},
   "outputs": [
    {
     "name": "stdout",
     "output_type": "stream",
     "text": [
      "Testing retrieval time for 100 IPAROs\n",
      "Testing retrieval time for 150 IPAROs\n",
      "Testing retrieval time for 200 IPAROs\n",
      "Testing retrieval time for 250 IPAROs\n",
      "Testing retrieval time for 300 IPAROs\n",
      "Testing retrieval time for 350 IPAROs\n",
      "Testing retrieval time for 400 IPAROs\n",
      "Testing retrieval time for 450 IPAROs\n",
      "Testing retrieval time for 500 IPAROs\n",
      "Testing retrieval time for 550 IPAROs\n",
      "Testing retrieval time for 600 IPAROs\n",
      "Testing retrieval time for 650 IPAROs\n",
      "Testing retrieval time for 700 IPAROs\n",
      "Testing retrieval time for 750 IPAROs\n",
      "Testing retrieval time for 800 IPAROs\n",
      "Testing retrieval time for 850 IPAROs\n",
      "Testing retrieval time for 900 IPAROs\n",
      "Testing retrieval time for 950 IPAROs\n",
      "Testing retrieval time for 1000 IPAROs\n"
     ]
    },
    {
     "data": {
      "image/png": "[encoded data removed]",
      "text/plain": [
       "<Figure size 1600x900 with 1 Axes>"
      ]
     },
     "metadata": {},
     "output_type": "display_data"
    }
   ],
   "source": [
    "import matplotlib.pyplot as plt\n",
    "import numpy as np\n",
    "\n",
    "\n",
    "def measure_total_retrieval_time(num_cids: int) -> float:\n",
    "    \"\"\"\n",
    "    Measure the total retrieval time of chain with number of nodes\n",
    "\n",
    "    Args:\n",
    "        num_cids (int): the number of CIDs in a chain\n",
    "\n",
    "    Returns:\n",
    "        float: the total retrieval time of the chain\n",
    "    \"\"\"\n",
    "    cids = create_chain_prior_node(num_cids)\n",
    "    print(\"Testing retrieval time for %d IPAROs\" % num_cids)\n",
    "    node = cids[-1]\n",
    "\n",
    "    start = time.time()\n",
    "    while node != None:\n",
    "        iparo = get_iparo(node)\n",
    "        node = iparo[\"prev_cid\"]\n",
    "    end = time.time()\n",
    "\n",
    "    return end-start\n",
    "\n",
    "\n",
    "x = np.arange(100, 1001, 50)\n",
    "y = []\n",
    "\n",
    "for num_cids in x:\n",
    "    y.append(measure_total_retrieval_time(num_cids=num_cids))\n",
    "\n",
    "# Create a plot\n",
    "plt.figure(figsize=(16, 9))\n",
    "plt.title(\"Total retrieval time at different number of nodes\")\n",
    "plt.plot(x, y, color='teal')\n",
    "plt.xlabel(\"Number of nodes\")\n",
    "plt.ylabel(\"Total retrieval time (s)\")\n",
    "plt.legend()\n",
    "plt.grid(True)\n",
    "\n",
    "# Display the plot\n",
    "plt.show()"
   ]
  },
  {
   "cell_type": "markdown",
   "metadata": {},
   "source": [
    "## Summary\n",
    "\n",
    "This notebook demonstrate a simple implementation of IPARO using IPFS. We created, stored, linked and retrieved IPAROs, providing a basic understanding of how to work with decentralized web archiving objects\n",
    "\n",
    "### Implemented Features:\n",
    "\n",
    "1. **IPARO Creation**: Defined a function to create IPAROs with content, links to previous IPAROs, and a timestamp.\n",
    "2. **Storing IPAROs in IPFS**: Developed a function to add IPAROs to IPFS and retrieve their unique content identifiers (CIDs).\n",
    "3. **Linking IPAROs**: Implemented a function to create a chain where each IPARO links only to the immediately preceding IPARO.\n",
    "4. **Retrieving and Navigating IPAROs**: Demonstrated how to retrieve IPAROs from IPFS and navigate between linked IPAROs.\n",
    "5. **Metric Tests**:\n",
    "   - **Storage Efficiency**: Measured the size of IPAROs and compared it with the original content size.\n",
    "   - **Retrieval Time**: Measured the time taken to retrieve IPAROs from IPFS.\n",
    "   - **Scalability**: Evaluated the performance with a large number of IPAROs."
   ]
  }
 ],
 "metadata": {
  "kernelspec": {
   "display_name": "venv",
   "language": "python",
   "name": "python3"
  },
  "language_info": {
   "codemirror_mode": {
    "name": "ipython",
    "version": 3
   },
   "file_extension": ".py",
   "mimetype": "text/x-python",
   "name": "python",
   "nbconvert_exporter": "python",
   "pygments_lexer": "ipython3",
   "version": "3.12.2"
  }
 },
 "nbformat": 4,
 "nbformat_minor": 2
}
